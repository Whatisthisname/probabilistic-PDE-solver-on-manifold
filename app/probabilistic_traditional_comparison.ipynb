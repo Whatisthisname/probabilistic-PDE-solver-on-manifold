{
 "cells": [
  {
   "cell_type": "code",
   "execution_count": 1,
   "metadata": {},
   "outputs": [],
   "source": [
    "import jax\n",
    "import jax.numpy as jnp\n",
    "from icosphere import icosphere\n",
    "from discrete_exterior_calculus import DEC\n",
    "\n",
    "jax.config.update(\"jax_enable_x64\", True)\n",
    "\n",
    "# nu:       1   2   3   4    5    6    7    8    9    10\n",
    "# vertices: 12, 42, 92, 162, 252, 362, 492, 642, 812, 1002\n",
    "nu = 1\n",
    "vertices, faces = icosphere(nu=nu)\n",
    "n = len(vertices)\n",
    "mesh = DEC.Mesh(vertices, faces)\n",
    "\n",
    "zmost_point = jnp.argmax(vertices[:, 2])\n",
    "zleast_point = jnp.argmin(vertices[:, 2])\n",
    "xmost_point = jnp.argmax(vertices[:, 0])\n",
    "xleast_point = jnp.argmin(vertices[:, 0])\n",
    "ymost_point = jnp.argmax(vertices[:, 1])\n",
    "yleast_point = jnp.argmin(vertices[:, 1])"
   ]
  },
  {
   "cell_type": "code",
   "execution_count": 2,
   "metadata": {},
   "outputs": [
    {
     "ename": "ValueError",
     "evalue": "Derivatives [1, 2, 3] must be at least 2 for order 2 method",
     "output_type": "error",
     "traceback": [
      "\u001b[0;31m---------------------------------------------------------------------------\u001b[0m",
      "\u001b[0;31mValueError\u001b[0m                                Traceback (most recent call last)",
      "Cell \u001b[0;32mIn[2], line 27\u001b[0m\n\u001b[1;32m     17\u001b[0m priors, prior_scales, derivatives, timesteps, problem_title, vf, order \u001b[38;5;241m=\u001b[39m (\n\u001b[1;32m     18\u001b[0m     data[\u001b[38;5;124m\"\u001b[39m\u001b[38;5;124mpriors\u001b[39m\u001b[38;5;124m\"\u001b[39m],\n\u001b[1;32m     19\u001b[0m     data[\u001b[38;5;124m\"\u001b[39m\u001b[38;5;124mprior_scale\u001b[39m\u001b[38;5;124m\"\u001b[39m],\n\u001b[0;32m   (...)\u001b[0m\n\u001b[1;32m     24\u001b[0m     data[\u001b[38;5;124m\"\u001b[39m\u001b[38;5;124morder\u001b[39m\u001b[38;5;124m\"\u001b[39m],\n\u001b[1;32m     25\u001b[0m )\n\u001b[1;32m     26\u001b[0m \u001b[38;5;28;01mif\u001b[39;00m jnp\u001b[38;5;241m.\u001b[39mmin(jnp\u001b[38;5;241m.\u001b[39masarray(derivatives)) \u001b[38;5;241m<\u001b[39m order:\n\u001b[0;32m---> 27\u001b[0m     \u001b[38;5;28;01mraise\u001b[39;00m \u001b[38;5;167;01mValueError\u001b[39;00m(\n\u001b[1;32m     28\u001b[0m         \u001b[38;5;124mf\u001b[39m\u001b[38;5;124m\"\u001b[39m\u001b[38;5;124mDerivatives \u001b[39m\u001b[38;5;132;01m{\u001b[39;00mderivatives\u001b[38;5;132;01m}\u001b[39;00m\u001b[38;5;124m must be at least \u001b[39m\u001b[38;5;132;01m{\u001b[39;00morder\u001b[38;5;132;01m}\u001b[39;00m\u001b[38;5;124m for order \u001b[39m\u001b[38;5;132;01m{\u001b[39;00morder\u001b[38;5;132;01m}\u001b[39;00m\u001b[38;5;124m method\u001b[39m\u001b[38;5;124m\"\u001b[39m\n\u001b[1;32m     29\u001b[0m     )\n\u001b[1;32m     31\u001b[0m wipe_db(problem_name)\n",
      "\u001b[0;31mValueError\u001b[0m: Derivatives [1, 2, 3] must be at least 2 for order 2 method"
     ]
    }
   ],
   "source": [
    "from persistent_storage import (\n",
    "    get_value,\n",
    "    set_value,\n",
    "    remove_value,\n",
    "    wipe_db,\n",
    "    experiment_setup,\n",
    "    build_experiment_name,\n",
    "    choice,\n",
    ")\n",
    "\n",
    "import itertools\n",
    "import probabilistic_solve_icosphere\n",
    "\n",
    "problem_name = choice\n",
    "\n",
    "data = experiment_setup[problem_name]\n",
    "priors, prior_scales, derivatives, timesteps, problem_title, vf, order = (\n",
    "    data[\"priors\"],\n",
    "    data[\"prior_scale\"],\n",
    "    data[\"derivatives\"],\n",
    "    data[\"timesteps\"],\n",
    "    data[\"problem_title\"],\n",
    "    data[\"vector_field\"],\n",
    "    data[\"order\"],\n",
    ")\n",
    "if jnp.min(jnp.asarray(derivatives)) < order:\n",
    "    raise ValueError(\n",
    "        f\"Derivatives {derivatives} must be at least {order} for order {order} method\"\n",
    "    )\n",
    "\n",
    "wipe_db(problem_name)\n"
   ]
  },
  {
   "cell_type": "markdown",
   "metadata": {},
   "source": [
    "#### Reference `diffrax` solution:"
   ]
  },
  {
   "cell_type": "code",
   "execution_count": null,
   "metadata": {},
   "outputs": [
    {
     "name": "stdout",
     "output_type": "stream",
     "text": [
      "Calculating diffrax solution\n",
      "saved\n"
     ]
    }
   ],
   "source": [
    "diffrax_sol = get_value(\"diffrax_sol\", None, filename=problem_name)\n",
    "if diffrax_sol is None or True:\n",
    "    print(\"Calculating diffrax solution\")\n",
    "\n",
    "    from diffrax import diffeqsolve, ODETerm, SaveAt, PIDController, Kvaerno5\n",
    "\n",
    "    if order == 1:\n",
    "\n",
    "        def vector_field(t, y, args):\n",
    "            return vf(y, mesh.laplace_matrix)\n",
    "\n",
    "    if order == 2:\n",
    "\n",
    "        def vector_field(t, y, args):\n",
    "            return jnp.concatenate(\n",
    "                (y[n : 2 * n], vf(y[:n], y[n : 2 * n], mesh.laplace_matrix))\n",
    "            )\n",
    "\n",
    "    u0 = jnp.zeros(n)\n",
    "    u0 = u0.at[ymost_point].set(1.0)\n",
    "    u0 = u0.at[yleast_point].set(-1.0)\n",
    "\n",
    "    if order == 1:\n",
    "        y0 = u0\n",
    "    if order == 2:\n",
    "        y0 = jnp.concatenate([u0, jnp.zeros(n)])\n",
    "\n",
    "    # Solve the system\n",
    "    sol = diffeqsolve(\n",
    "        ODETerm(vector_field),\n",
    "        Kvaerno5(),\n",
    "        t0=0,\n",
    "        t1=10,\n",
    "        dt0=0.01,\n",
    "        y0=y0,\n",
    "        saveat=SaveAt(ts=jnp.linspace(0, 10, 1500, endpoint=True)),\n",
    "        stepsize_controller=PIDController(rtol=1e-8, atol=1e-8),\n",
    "        max_steps=50000,\n",
    "    )\n",
    "\n",
    "    diffrax_sol = sol.ys[:, zleast_point]  # Displacement solutions over time\n",
    "    set_value(\"diffrax_sol\", diffrax_sol, filename=problem_name)\n",
    "    print(\"saved\")\n",
    "    set_value(\"diffrax_sol_steps\", sol.stats[\"num_steps\"].item(), filename=problem_name)\n"
   ]
  },
  {
   "cell_type": "code",
   "execution_count": null,
   "metadata": {},
   "outputs": [
    {
     "name": "stderr",
     "output_type": "stream",
     "text": [
      "Running experiment: wave_2_10:   0%|          | 0/60 [00:00<?, ?it/s]"
     ]
    },
    {
     "name": "stdout",
     "output_type": "stream",
     "text": [
      "laplace\n"
     ]
    },
    {
     "name": "stderr",
     "output_type": "stream",
     "text": [
      "Running experiment: wave_2_18:   2%|▏         | 1/60 [00:02<02:03,  2.09s/it]"
     ]
    },
    {
     "name": "stdout",
     "output_type": "stream",
     "text": [
      "laplace\n"
     ]
    },
    {
     "name": "stderr",
     "output_type": "stream",
     "text": [
      "Running experiment: wave_2_35:   3%|▎         | 2/60 [00:03<01:21,  1.40s/it]"
     ]
    },
    {
     "name": "stdout",
     "output_type": "stream",
     "text": [
      "laplace\n"
     ]
    },
    {
     "name": "stderr",
     "output_type": "stream",
     "text": [
      "Running experiment: wave_2_68:   5%|▌         | 3/60 [00:04<01:12,  1.27s/it]"
     ]
    },
    {
     "name": "stdout",
     "output_type": "stream",
     "text": [
      "laplace\n"
     ]
    },
    {
     "name": "stderr",
     "output_type": "stream",
     "text": [
      "Running experiment: wave_2_129:   7%|▋         | 4/60 [00:05<01:08,  1.22s/it]"
     ]
    },
    {
     "name": "stdout",
     "output_type": "stream",
     "text": [
      "laplace\n"
     ]
    },
    {
     "name": "stderr",
     "output_type": "stream",
     "text": [
      "Running experiment: wave_2_244:   8%|▊         | 5/60 [00:06<01:05,  1.19s/it]"
     ]
    },
    {
     "name": "stdout",
     "output_type": "stream",
     "text": [
      "laplace\n"
     ]
    },
    {
     "name": "stderr",
     "output_type": "stream",
     "text": [
      "Running experiment: wave_2_464:  10%|█         | 6/60 [00:07<01:10,  1.31s/it]"
     ]
    },
    {
     "name": "stdout",
     "output_type": "stream",
     "text": [
      "laplace\n"
     ]
    },
    {
     "name": "stderr",
     "output_type": "stream",
     "text": [
      "Running experiment: wave_2_879:  12%|█▏        | 7/60 [00:09<01:05,  1.24s/it]"
     ]
    },
    {
     "name": "stdout",
     "output_type": "stream",
     "text": [
      "laplace\n"
     ]
    },
    {
     "name": "stderr",
     "output_type": "stream",
     "text": [
      "Running experiment: wave_2_1668:  13%|█▎        | 8/60 [00:10<01:10,  1.36s/it]"
     ]
    },
    {
     "name": "stdout",
     "output_type": "stream",
     "text": [
      "laplace\n"
     ]
    },
    {
     "name": "stderr",
     "output_type": "stream",
     "text": [
      "Running experiment: wave_2_3162:  15%|█▌        | 9/60 [00:13<01:34,  1.86s/it]"
     ]
    },
    {
     "name": "stdout",
     "output_type": "stream",
     "text": [
      "laplace\n"
     ]
    },
    {
     "name": "stderr",
     "output_type": "stream",
     "text": [
      "Running experiment: wave_3_10:  17%|█▋        | 10/60 [00:19<02:31,  3.03s/it]  "
     ]
    },
    {
     "name": "stdout",
     "output_type": "stream",
     "text": [
      "laplace\n"
     ]
    },
    {
     "name": "stderr",
     "output_type": "stream",
     "text": [
      "Running experiment: wave_3_18:  18%|█▊        | 11/60 [00:21<02:11,  2.68s/it]"
     ]
    },
    {
     "name": "stdout",
     "output_type": "stream",
     "text": [
      "laplace\n"
     ]
    },
    {
     "name": "stderr",
     "output_type": "stream",
     "text": [
      "Running experiment: wave_3_35:  20%|██        | 12/60 [00:22<01:45,  2.20s/it]"
     ]
    },
    {
     "name": "stdout",
     "output_type": "stream",
     "text": [
      "laplace\n"
     ]
    },
    {
     "name": "stderr",
     "output_type": "stream",
     "text": [
      "Running experiment: wave_3_68:  22%|██▏       | 13/60 [00:23<01:27,  1.87s/it]"
     ]
    },
    {
     "name": "stdout",
     "output_type": "stream",
     "text": [
      "laplace\n"
     ]
    },
    {
     "name": "stderr",
     "output_type": "stream",
     "text": [
      "Running experiment: wave_3_129:  23%|██▎       | 14/60 [00:24<01:16,  1.66s/it]"
     ]
    },
    {
     "name": "stdout",
     "output_type": "stream",
     "text": [
      "laplace\n"
     ]
    },
    {
     "name": "stderr",
     "output_type": "stream",
     "text": [
      "Running experiment: wave_3_244:  25%|██▌       | 15/60 [00:25<01:11,  1.58s/it]"
     ]
    },
    {
     "name": "stdout",
     "output_type": "stream",
     "text": [
      "laplace\n"
     ]
    },
    {
     "name": "stderr",
     "output_type": "stream",
     "text": [
      "Running experiment: wave_3_464:  27%|██▋       | 16/60 [00:27<01:13,  1.67s/it]"
     ]
    },
    {
     "name": "stdout",
     "output_type": "stream",
     "text": [
      "laplace\n"
     ]
    },
    {
     "name": "stderr",
     "output_type": "stream",
     "text": [
      "Running experiment: wave_3_879:  28%|██▊       | 17/60 [00:30<01:22,  1.91s/it]"
     ]
    },
    {
     "name": "stdout",
     "output_type": "stream",
     "text": [
      "laplace\n"
     ]
    },
    {
     "name": "stderr",
     "output_type": "stream",
     "text": [
      "Running experiment: wave_3_1668:  30%|███       | 18/60 [00:35<01:58,  2.82s/it]"
     ]
    },
    {
     "name": "stdout",
     "output_type": "stream",
     "text": [
      "laplace\n"
     ]
    },
    {
     "name": "stderr",
     "output_type": "stream",
     "text": [
      "Running experiment: wave_3_3162:  32%|███▏      | 19/60 [00:46<03:45,  5.50s/it]"
     ]
    },
    {
     "name": "stdout",
     "output_type": "stream",
     "text": [
      "laplace\n"
     ]
    },
    {
     "name": "stderr",
     "output_type": "stream",
     "text": [
      "Running experiment: wave_4_10:  33%|███▎      | 20/60 [01:05<06:20,  9.51s/it]  "
     ]
    },
    {
     "name": "stdout",
     "output_type": "stream",
     "text": [
      "laplace\n"
     ]
    },
    {
     "name": "stderr",
     "output_type": "stream",
     "text": [
      "Running experiment: wave_4_18:  35%|███▌      | 21/60 [01:07<04:43,  7.27s/it]"
     ]
    },
    {
     "name": "stdout",
     "output_type": "stream",
     "text": [
      "laplace\n"
     ]
    },
    {
     "name": "stderr",
     "output_type": "stream",
     "text": [
      "Running experiment: wave_4_35:  37%|███▋      | 22/60 [01:09<03:27,  5.45s/it]"
     ]
    },
    {
     "name": "stdout",
     "output_type": "stream",
     "text": [
      "laplace\n"
     ]
    },
    {
     "name": "stderr",
     "output_type": "stream",
     "text": [
      "Running experiment: wave_4_68:  38%|███▊      | 23/60 [01:10<02:34,  4.18s/it]"
     ]
    },
    {
     "name": "stdout",
     "output_type": "stream",
     "text": [
      "laplace\n"
     ]
    },
    {
     "name": "stderr",
     "output_type": "stream",
     "text": [
      "Running experiment: wave_4_129:  40%|████      | 24/60 [01:12<02:03,  3.44s/it]"
     ]
    },
    {
     "name": "stdout",
     "output_type": "stream",
     "text": [
      "laplace\n"
     ]
    },
    {
     "name": "stderr",
     "output_type": "stream",
     "text": [
      "Running experiment: wave_4_244:  42%|████▏     | 25/60 [01:14<01:47,  3.08s/it]"
     ]
    },
    {
     "name": "stdout",
     "output_type": "stream",
     "text": [
      "laplace\n"
     ]
    },
    {
     "name": "stderr",
     "output_type": "stream",
     "text": [
      "Running experiment: wave_4_464:  43%|████▎     | 26/60 [01:17<01:45,  3.09s/it]"
     ]
    },
    {
     "name": "stdout",
     "output_type": "stream",
     "text": [
      "laplace\n"
     ]
    },
    {
     "name": "stderr",
     "output_type": "stream",
     "text": [
      "Running experiment: wave_4_879:  45%|████▌     | 27/60 [01:24<02:22,  4.30s/it]"
     ]
    },
    {
     "name": "stdout",
     "output_type": "stream",
     "text": [
      "laplace\n"
     ]
    },
    {
     "name": "stderr",
     "output_type": "stream",
     "text": [
      "Running experiment: wave_4_1668:  47%|████▋     | 28/60 [01:36<03:32,  6.63s/it]"
     ]
    },
    {
     "name": "stdout",
     "output_type": "stream",
     "text": [
      "laplace\n"
     ]
    },
    {
     "name": "stderr",
     "output_type": "stream",
     "text": [
      "Running experiment: wave_4_3162:  48%|████▊     | 29/60 [01:57<05:40, 10.97s/it]"
     ]
    },
    {
     "name": "stdout",
     "output_type": "stream",
     "text": [
      "laplace\n"
     ]
    },
    {
     "name": "stderr",
     "output_type": "stream",
     "text": [
      "Running experiment: iwp_2_10:  50%|█████     | 30/60 [02:38<09:54, 19.81s/it]   "
     ]
    },
    {
     "name": "stdout",
     "output_type": "stream",
     "text": [
      "laplace\n"
     ]
    },
    {
     "name": "stderr",
     "output_type": "stream",
     "text": [
      "Running experiment: iwp_2_18:  52%|█████▏    | 31/60 [02:38<06:46, 14.00s/it]"
     ]
    },
    {
     "name": "stdout",
     "output_type": "stream",
     "text": [
      "laplace\n"
     ]
    },
    {
     "name": "stderr",
     "output_type": "stream",
     "text": [
      "Running experiment: iwp_2_35:  53%|█████▎    | 32/60 [02:38<04:37,  9.92s/it]"
     ]
    },
    {
     "name": "stdout",
     "output_type": "stream",
     "text": [
      "laplace\n"
     ]
    },
    {
     "name": "stderr",
     "output_type": "stream",
     "text": [
      "Running experiment: iwp_2_68:  55%|█████▌    | 33/60 [02:39<03:11,  7.08s/it]"
     ]
    },
    {
     "name": "stdout",
     "output_type": "stream",
     "text": [
      "laplace\n"
     ]
    },
    {
     "name": "stderr",
     "output_type": "stream",
     "text": [
      "Running experiment: iwp_2_129:  57%|█████▋    | 34/60 [02:39<02:13,  5.14s/it]"
     ]
    },
    {
     "name": "stdout",
     "output_type": "stream",
     "text": [
      "laplace\n"
     ]
    },
    {
     "name": "stderr",
     "output_type": "stream",
     "text": [
      "Running experiment: iwp_2_244:  58%|█████▊    | 35/60 [02:40<01:33,  3.75s/it]"
     ]
    },
    {
     "name": "stdout",
     "output_type": "stream",
     "text": [
      "laplace\n"
     ]
    },
    {
     "name": "stderr",
     "output_type": "stream",
     "text": [
      "Running experiment: iwp_2_464:  60%|██████    | 36/60 [02:41<01:07,  2.81s/it]"
     ]
    },
    {
     "name": "stdout",
     "output_type": "stream",
     "text": [
      "laplace\n"
     ]
    },
    {
     "name": "stderr",
     "output_type": "stream",
     "text": [
      "Running experiment: iwp_2_879:  62%|██████▏   | 37/60 [02:42<00:51,  2.23s/it]"
     ]
    },
    {
     "name": "stdout",
     "output_type": "stream",
     "text": [
      "laplace\n"
     ]
    },
    {
     "name": "stderr",
     "output_type": "stream",
     "text": [
      "Running experiment: iwp_2_1668:  63%|██████▎   | 38/60 [02:43<00:44,  2.01s/it]"
     ]
    },
    {
     "name": "stdout",
     "output_type": "stream",
     "text": [
      "laplace\n"
     ]
    },
    {
     "name": "stderr",
     "output_type": "stream",
     "text": [
      "Running experiment: iwp_2_3162:  65%|██████▌   | 39/60 [02:46<00:45,  2.17s/it]"
     ]
    },
    {
     "name": "stdout",
     "output_type": "stream",
     "text": [
      "laplace\n"
     ]
    },
    {
     "name": "stderr",
     "output_type": "stream",
     "text": [
      "Running experiment: iwp_3_10:  67%|██████▋   | 40/60 [02:50<00:59,  2.99s/it]  "
     ]
    },
    {
     "name": "stdout",
     "output_type": "stream",
     "text": [
      "laplace\n"
     ]
    },
    {
     "name": "stderr",
     "output_type": "stream",
     "text": [
      "Running experiment: iwp_3_18:  68%|██████▊   | 41/60 [02:51<00:43,  2.27s/it]"
     ]
    },
    {
     "name": "stdout",
     "output_type": "stream",
     "text": [
      "laplace\n"
     ]
    },
    {
     "name": "stderr",
     "output_type": "stream",
     "text": [
      "Running experiment: iwp_3_35:  70%|███████   | 42/60 [02:52<00:31,  1.77s/it]"
     ]
    },
    {
     "name": "stdout",
     "output_type": "stream",
     "text": [
      "laplace\n"
     ]
    },
    {
     "name": "stderr",
     "output_type": "stream",
     "text": [
      "Running experiment: iwp_3_68:  72%|███████▏  | 43/60 [02:52<00:24,  1.41s/it]"
     ]
    },
    {
     "name": "stdout",
     "output_type": "stream",
     "text": [
      "laplace\n"
     ]
    },
    {
     "name": "stderr",
     "output_type": "stream",
     "text": [
      "Running experiment: iwp_3_129:  73%|███████▎  | 44/60 [02:53<00:18,  1.15s/it]"
     ]
    },
    {
     "name": "stdout",
     "output_type": "stream",
     "text": [
      "laplace\n"
     ]
    },
    {
     "name": "stderr",
     "output_type": "stream",
     "text": [
      "Running experiment: iwp_3_244:  75%|███████▌  | 45/60 [02:54<00:16,  1.09s/it]"
     ]
    },
    {
     "name": "stdout",
     "output_type": "stream",
     "text": [
      "laplace\n"
     ]
    },
    {
     "name": "stderr",
     "output_type": "stream",
     "text": [
      "Running experiment: iwp_3_464:  77%|███████▋  | 46/60 [02:55<00:17,  1.26s/it]"
     ]
    },
    {
     "name": "stdout",
     "output_type": "stream",
     "text": [
      "laplace\n"
     ]
    },
    {
     "name": "stderr",
     "output_type": "stream",
     "text": [
      "Running experiment: iwp_3_879:  78%|███████▊  | 47/60 [02:58<00:22,  1.70s/it]"
     ]
    },
    {
     "name": "stdout",
     "output_type": "stream",
     "text": [
      "laplace\n"
     ]
    },
    {
     "name": "stderr",
     "output_type": "stream",
     "text": [
      "Running experiment: iwp_3_1668:  80%|████████  | 48/60 [03:02<00:28,  2.39s/it]"
     ]
    },
    {
     "name": "stdout",
     "output_type": "stream",
     "text": [
      "laplace\n"
     ]
    },
    {
     "name": "stderr",
     "output_type": "stream",
     "text": [
      "Running experiment: iwp_3_3162:  82%|████████▏ | 49/60 [03:10<00:43,  4.00s/it]"
     ]
    },
    {
     "name": "stdout",
     "output_type": "stream",
     "text": [
      "laplace\n"
     ]
    },
    {
     "name": "stderr",
     "output_type": "stream",
     "text": [
      "Running experiment: iwp_4_10:  83%|████████▎ | 50/60 [03:24<01:09,  6.97s/it]  "
     ]
    },
    {
     "name": "stdout",
     "output_type": "stream",
     "text": [
      "laplace\n"
     ]
    },
    {
     "name": "stderr",
     "output_type": "stream",
     "text": [
      "Running experiment: iwp_4_18:  85%|████████▌ | 51/60 [03:25<00:46,  5.16s/it]"
     ]
    },
    {
     "name": "stdout",
     "output_type": "stream",
     "text": [
      "laplace\n"
     ]
    },
    {
     "name": "stderr",
     "output_type": "stream",
     "text": [
      "Running experiment: iwp_4_35:  87%|████████▋ | 52/60 [03:25<00:30,  3.80s/it]"
     ]
    },
    {
     "name": "stdout",
     "output_type": "stream",
     "text": [
      "laplace\n"
     ]
    },
    {
     "name": "stderr",
     "output_type": "stream",
     "text": [
      "Running experiment: iwp_4_68:  88%|████████▊ | 53/60 [03:26<00:20,  2.86s/it]"
     ]
    },
    {
     "name": "stdout",
     "output_type": "stream",
     "text": [
      "laplace\n"
     ]
    },
    {
     "name": "stderr",
     "output_type": "stream",
     "text": [
      "Running experiment: iwp_4_129:  90%|█████████ | 54/60 [03:28<00:14,  2.49s/it]"
     ]
    },
    {
     "name": "stdout",
     "output_type": "stream",
     "text": [
      "laplace\n"
     ]
    },
    {
     "name": "stderr",
     "output_type": "stream",
     "text": [
      "Running experiment: iwp_4_244:  92%|█████████▏| 55/60 [03:29<00:10,  2.07s/it]"
     ]
    },
    {
     "name": "stdout",
     "output_type": "stream",
     "text": [
      "laplace\n"
     ]
    },
    {
     "name": "stderr",
     "output_type": "stream",
     "text": [
      "Running experiment: iwp_4_464:  93%|█████████▎| 56/60 [03:32<00:10,  2.55s/it]"
     ]
    },
    {
     "name": "stdout",
     "output_type": "stream",
     "text": [
      "laplace\n"
     ]
    },
    {
     "name": "stderr",
     "output_type": "stream",
     "text": [
      "Running experiment: iwp_4_879:  95%|█████████▌| 57/60 [03:39<00:11,  3.75s/it]"
     ]
    },
    {
     "name": "stdout",
     "output_type": "stream",
     "text": [
      "laplace\n"
     ]
    },
    {
     "name": "stderr",
     "output_type": "stream",
     "text": [
      "Running experiment: iwp_4_1668:  97%|█████████▋| 58/60 [03:50<00:11,  5.95s/it]"
     ]
    },
    {
     "name": "stdout",
     "output_type": "stream",
     "text": [
      "laplace\n"
     ]
    },
    {
     "name": "stderr",
     "output_type": "stream",
     "text": [
      "Running experiment: iwp_4_3162:  98%|█████████▊| 59/60 [04:11<00:10, 10.54s/it]"
     ]
    },
    {
     "name": "stdout",
     "output_type": "stream",
     "text": [
      "laplace\n"
     ]
    },
    {
     "name": "stderr",
     "output_type": "stream",
     "text": [
      "Running experiment: iwp_4_3162: 100%|██████████| 60/60 [04:51<00:00,  4.86s/it]\n"
     ]
    }
   ],
   "source": [
    "import time\n",
    "import numpy as np\n",
    "import tqdm\n",
    "\n",
    "product = list(itertools.product(priors, derivatives, timesteps))\n",
    "\n",
    "iter = tqdm.tqdm(product)\n",
    "\n",
    "for prior, q, timestep in iter:\n",
    "    experiment_name = build_experiment_name(prior, q, timestep)\n",
    "    iter.set_description(f\"Running experiment: {experiment_name}\")\n",
    "\n",
    "    means, stds, runtime, rmse = get_value(experiment_name, [None] * 4, problem_name)\n",
    "    if means is None:\n",
    "        fastest_time = 1e9\n",
    "        for _ in range(1):\n",
    "            start_time = time.time()\n",
    "            means, stds = probabilistic_solve_icosphere.solve(\n",
    "                isosphere_nu=nu,\n",
    "                n_solution_points=timestep,\n",
    "                derivatives=q,\n",
    "                prior_type=prior,\n",
    "                prior_scale=prior_scales[0],  # TODO\n",
    "                vector_field=vf,\n",
    "                order=order,\n",
    "            )\n",
    "            try:\n",
    "                means = means[:, zleast_point]\n",
    "                stds = stds[:, zleast_point]\n",
    "            except Exception as err:\n",
    "                print(f\"Experiment {experiment_name} failed because of {err}\")\n",
    "            end_time = time.time()\n",
    "            if end_time - start_time < fastest_time:\n",
    "                fastest_time = end_time - start_time\n",
    "        diff = means - diffrax_sol\n",
    "        rmse = jnp.sqrt(jnp.mean(diff[:-1] ** 2))\n",
    "        means = means.astype(np.float32)\n",
    "        stds = stds.astype(np.float32)\n",
    "        set_value(\n",
    "            experiment_name,\n",
    "            (\n",
    "                means.astype(np.float32),\n",
    "                stds.astype(np.float32),\n",
    "                fastest_time,\n",
    "                rmse,\n",
    "            ),\n",
    "            filename=problem_name,\n",
    "        )\n",
    "    else:\n",
    "        continue"
   ]
  }
 ],
 "metadata": {
  "kernelspec": {
   "display_name": "Python 3",
   "language": "python",
   "name": "python3"
  },
  "language_info": {
   "codemirror_mode": {
    "name": "ipython",
    "version": 3
   },
   "file_extension": ".py",
   "mimetype": "text/x-python",
   "name": "python",
   "nbconvert_exporter": "python",
   "pygments_lexer": "ipython3",
   "version": "3.9.6"
  }
 },
 "nbformat": 4,
 "nbformat_minor": 2
}
