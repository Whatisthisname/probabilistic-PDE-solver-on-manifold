{
 "cells": [
  {
   "cell_type": "code",
   "execution_count": 1,
   "metadata": {},
   "outputs": [],
   "source": [
    "import jax\n",
    "import jax.numpy as jnp\n",
    "from icosphere import icosphere\n",
    "from discrete_exterior_calculus import DEC\n",
    "\n",
    "jax.config.update(\"jax_enable_x64\", True)\n",
    "\n",
    "# nu:       1   2   3   4    5    6    7    8    9    10\n",
    "# vertices: 12, 42, 92, 162, 252, 362, 492, 642, 812, 1002\n",
    "nu = 1\n",
    "vertices, faces = icosphere(nu=nu)\n",
    "n = len(vertices)\n",
    "mesh = DEC.Mesh(vertices, faces)\n",
    "\n",
    "zmost_point = jnp.argmax(vertices[:, 2])\n",
    "zleast_point = jnp.argmin(vertices[:, 2])\n",
    "xmost_point = jnp.argmax(vertices[:, 0])\n",
    "xleast_point = jnp.argmin(vertices[:, 0])\n",
    "ymost_point = jnp.argmax(vertices[:, 1])\n",
    "yleast_point = jnp.argmin(vertices[:, 1])"
   ]
  },
  {
   "cell_type": "code",
   "execution_count": 2,
   "metadata": {},
   "outputs": [],
   "source": [
    "from persistent_storage import (\n",
    "    get_value,\n",
    "    set_value,\n",
    "    remove_value,\n",
    "    wipe_db,\n",
    "    experiment_setup,\n",
    "    build_experiment_name,\n",
    "    choice,\n",
    ")\n",
    "\n",
    "import itertools\n",
    "import probabilistic_solve_icosphere\n",
    "\n",
    "problem_name = choice\n",
    "\n",
    "data = experiment_setup[problem_name]\n",
    "priors, prior_scales, derivatives, timesteps, problem_title, vf, order = (\n",
    "    data[\"priors\"],\n",
    "    data[\"prior_scale\"],\n",
    "    data[\"derivatives\"],\n",
    "    data[\"timesteps\"],\n",
    "    data[\"problem_title\"],\n",
    "    data[\"vector_field\"],\n",
    "    data[\"order\"],\n",
    ")\n",
    "if jnp.min(jnp.asarray(derivatives)) < order:\n",
    "    raise ValueError(\n",
    "        f\"Derivatives {derivatives} must be at least {order} for order {order} method\"\n",
    "    )\n",
    "\n",
    "wipe_db(problem_name)\n"
   ]
  },
  {
   "cell_type": "markdown",
   "metadata": {},
   "source": [
    "#### Reference `diffrax` solution:"
   ]
  },
  {
   "cell_type": "code",
   "execution_count": 3,
   "metadata": {},
   "outputs": [
    {
     "name": "stdout",
     "output_type": "stream",
     "text": [
      "Calculating diffrax solution\n",
      "saved\n"
     ]
    }
   ],
   "source": [
    "diffrax_sol = get_value(\"diffrax_sol\", None, filename=problem_name)\n",
    "if diffrax_sol is None or True:\n",
    "    print(\"Calculating diffrax solution\")\n",
    "\n",
    "    from diffrax import diffeqsolve, ODETerm, SaveAt, PIDController, Kvaerno5\n",
    "\n",
    "    if order == 1:\n",
    "\n",
    "        def vector_field(t, y, args):\n",
    "            return vf(y, mesh.laplace_matrix)\n",
    "\n",
    "    if order == 2:\n",
    "\n",
    "        def vector_field(t, y, args):\n",
    "            return jnp.concatenate(\n",
    "                (y[n : 2 * n], vf(y[:n], y[n : 2 * n], mesh.laplace_matrix))\n",
    "            )\n",
    "\n",
    "    u0 = jnp.zeros(n)\n",
    "    u0 = u0.at[ymost_point].set(1.0)\n",
    "    u0 = u0.at[yleast_point].set(-1.0)\n",
    "\n",
    "    if order == 1:\n",
    "        y0 = u0\n",
    "    if order == 2:\n",
    "        y0 = jnp.concatenate([u0, jnp.zeros(n)])\n",
    "\n",
    "    # Solve the system\n",
    "    sol = diffeqsolve(\n",
    "        ODETerm(vector_field),\n",
    "        Kvaerno5(),\n",
    "        t0=0,\n",
    "        t1=10,\n",
    "        dt0=0.01,\n",
    "        y0=y0,\n",
    "        saveat=SaveAt(ts=jnp.linspace(0, 10, 100)),\n",
    "        stepsize_controller=PIDController(rtol=1e-8, atol=1e-8),\n",
    "        max_steps=50000,\n",
    "    )\n",
    "\n",
    "    diffrax_sol = sol.ys[:, zleast_point]  # Displacement solutions over time\n",
    "    set_value(\"diffrax_sol\", diffrax_sol, filename=problem_name)\n",
    "    print(\"saved\")\n",
    "    set_value(\"diffrax_sol_steps\", sol.stats[\"num_steps\"].item(), filename=problem_name)\n"
   ]
  },
  {
   "cell_type": "code",
   "execution_count": 4,
   "metadata": {},
   "outputs": [
    {
     "name": "stderr",
     "output_type": "stream",
     "text": [
      "Running experiment: iwp_4_3162: 100%|██████████| 60/60 [01:10<00:00,  1.17s/it] \n"
     ]
    }
   ],
   "source": [
    "import time\n",
    "import numpy as np\n",
    "import tqdm\n",
    "\n",
    "product = list(itertools.product(priors, derivatives, timesteps))\n",
    "\n",
    "iter = tqdm.tqdm(product)\n",
    "\n",
    "for prior, q, timestep in iter:\n",
    "    experiment_name = build_experiment_name(prior, q, timestep)\n",
    "    iter.set_description(f\"Running experiment: {experiment_name}\")\n",
    "\n",
    "    means, stds, runtime, rmse = get_value(experiment_name, [None] * 4, problem_name)\n",
    "    if means is None:\n",
    "        fastest_time = 1e9\n",
    "        for _ in range(1):\n",
    "            start_time = time.time()\n",
    "            means, stds = probabilistic_solve_icosphere.solve(\n",
    "                isosphere_nu=nu,\n",
    "                n_solution_points=timestep,\n",
    "                derivatives=q,\n",
    "                prior_type=prior,\n",
    "                prior_scale=prior_scales[0],  # TODO\n",
    "                vector_field=vf,\n",
    "                order=order,\n",
    "            )\n",
    "            try:\n",
    "                means = means[:, zleast_point]\n",
    "                stds = stds[:, zleast_point]\n",
    "            except Exception as err:\n",
    "                print(f\"Experiment {experiment_name} failed because of {err}\")\n",
    "            end_time = time.time()\n",
    "            if end_time - start_time < fastest_time:\n",
    "                fastest_time = end_time - start_time\n",
    "        diff = means - diffrax_sol\n",
    "        rmse = jnp.sqrt(jnp.mean(diff[:-1] ** 2))\n",
    "        means = means.astype(np.float32)\n",
    "        stds = stds.astype(np.float32)\n",
    "        set_value(\n",
    "            experiment_name,\n",
    "            (\n",
    "                means.astype(np.float32),\n",
    "                stds.astype(np.float32),\n",
    "                fastest_time,\n",
    "                rmse,\n",
    "            ),\n",
    "            filename=problem_name,\n",
    "        )\n",
    "    else:\n",
    "        continue"
   ]
  }
 ],
 "metadata": {
  "kernelspec": {
   "display_name": "Python 3",
   "language": "python",
   "name": "python3"
  },
  "language_info": {
   "codemirror_mode": {
    "name": "ipython",
    "version": 3
   },
   "file_extension": ".py",
   "mimetype": "text/x-python",
   "name": "python",
   "nbconvert_exporter": "python",
   "pygments_lexer": "ipython3",
   "version": "3.9.6"
  }
 },
 "nbformat": 4,
 "nbformat_minor": 2
}
