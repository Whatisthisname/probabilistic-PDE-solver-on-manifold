{
 "cells": [
  {
   "cell_type": "code",
   "execution_count": 1,
   "metadata": {},
   "outputs": [],
   "source": [
    "import jax\n",
    "import jax.numpy as jnp\n",
    "from icosphere import icosphere\n",
    "from discrete_exterior_calculus import DEC\n",
    "\n",
    "jax.config.update(\"jax_enable_x64\", True)\n",
    "\n",
    "# nu:       1   2   3   4    5    6    7    8    9    10\n",
    "# vertices: 12, 42, 92, 162, 252, 362, 492, 642, 812, 1002\n",
    "nu = 1\n",
    "vertices, faces = icosphere(nu=nu)\n",
    "n = len(vertices)\n",
    "mesh = DEC.Mesh(vertices, faces)\n",
    "\n",
    "zmost_point = jnp.argmax(vertices[:, 2])\n",
    "zleast_point = jnp.argmin(vertices[:, 2])\n",
    "xmost_point = jnp.argmax(vertices[:, 0])\n",
    "xleast_point = jnp.argmin(vertices[:, 0])\n",
    "ymost_point = jnp.argmax(vertices[:, 1])\n",
    "yleast_point = jnp.argmin(vertices[:, 1])"
   ]
  },
  {
   "cell_type": "code",
   "execution_count": 2,
   "metadata": {},
   "outputs": [
    {
     "name": "stdout",
     "output_type": "stream",
     "text": [
      "Calculating diffrax solution\n",
      "saved\n"
     ]
    }
   ],
   "source": [
    "from persistent_storage import (\n",
    "    get_value,\n",
    "    set_value,\n",
    "    remove_value,\n",
    "    wipe_db,\n",
    "    experiment_setup,\n",
    "    build_experiment_name,\n",
    ")\n",
    "\n",
    "import itertools\n",
    "import probabilistic_solve_icosphere\n",
    "\n",
    "problem = \"heat\"\n",
    "\n",
    "data = experiment_setup[problem]\n",
    "dbname, priors, derivatives, timesteps, problem_title = (\n",
    "    data[\"dbname\"],\n",
    "    data[\"priors\"],\n",
    "    data[\"derivatives\"],\n",
    "    data[\"timesteps\"],\n",
    "    data[\"problem_title\"],\n",
    ")\n",
    "\n",
    "wipe_db(dbname)\n",
    "\n",
    "diffrax_sol = get_value(\"diffrax_sol\", None, filename=dbname)\n",
    "if diffrax_sol is None or True:\n",
    "    print(\"Calculating diffrax solution\")\n",
    "\n",
    "    from diffrax import diffeqsolve, ODETerm, SaveAt, PIDController, Kvaerno5\n",
    "\n",
    "    if problem == \"heat and tanh\":\n",
    "\n",
    "        def vector_field(t, y, args):\n",
    "            u = y[:n]\n",
    "            return mesh.laplace_matrix @ u + jnp.tanh(mesh.laplace_matrix @ u)\n",
    "\n",
    "    if problem == \"heat\":\n",
    "\n",
    "        def vector_field(t, y, args):\n",
    "            u = y[:n]\n",
    "            return mesh.laplace_matrix @ u\n",
    "\n",
    "    if problem == \"heat small tanh\":\n",
    "\n",
    "        def vector_field(t, y, args):\n",
    "            u = y[:n]\n",
    "            return mesh.laplace_matrix @ u + 0.1 * jnp.tanh(mesh.laplace_matrix @ u)\n",
    "\n",
    "    if problem == \"wave\":\n",
    "\n",
    "        def vector_field(t, y, args):\n",
    "            u = y[:n]\n",
    "            v = y[n:]\n",
    "            du_dt = v\n",
    "            dv_dt = mesh.laplace_matrix @ u\n",
    "            return jnp.concatenate([du_dt, dv_dt])\n",
    "\n",
    "    if problem == \"wave and tanh\":\n",
    "\n",
    "        def vector_field(t, y, args):\n",
    "            u = y[:n]\n",
    "            v = y[n:]\n",
    "            du_dt = v\n",
    "            dv_dt = jnp.tanh(mesh.laplace_matrix @ u) + mesh.laplace_matrix @ u\n",
    "            return jnp.concatenate([du_dt, dv_dt])\n",
    "\n",
    "    # Define the ODE term\n",
    "    term = ODETerm(vector_field)\n",
    "\n",
    "    solver = Kvaerno5()\n",
    "    saveat = SaveAt(ts=jnp.linspace(0, 10, 100))\n",
    "    stepsize_controller = PIDController(rtol=1e-8, atol=1e-8)\n",
    "\n",
    "    # Initial conditions\n",
    "    u0 = jnp.zeros(n)  # Initial condition for u (e.g., zero displacement)\n",
    "    v0 = jnp.zeros(n)  # Initial condition for v (e.g., zero velocity)\n",
    "    u0 = u0.at[ymost_point].set(2.0)  # Example: Displace the middle point\n",
    "    u0 = u0.at[yleast_point].set(-2.0)  # Example: Displace the middle point\n",
    "\n",
    "    if problem in [\"heat\", \"heat and tanh\", \"heat small tanh\"]:\n",
    "        y0 = u0\n",
    "    if problem in [\"wave\", \"wave and tanh\"]:\n",
    "        y0 = jnp.concatenate([u0, v0])\n",
    "\n",
    "    # Solve the system\n",
    "    sol = diffeqsolve(\n",
    "        term,\n",
    "        solver,\n",
    "        t0=0,\n",
    "        t1=10,\n",
    "        dt0=0.01,\n",
    "        y0=y0,\n",
    "        saveat=saveat,\n",
    "        stepsize_controller=stepsize_controller,\n",
    "        max_steps=50000,\n",
    "    )\n",
    "\n",
    "    diffrax_sol = sol.ys[:, zleast_point]  # Displacement solutions over time\n",
    "    set_value(\"diffrax_sol\", diffrax_sol, filename=dbname)\n",
    "    print(\"saved\")\n",
    "    set_value(\"diffrax_sol_steps\", sol.stats[\"num_steps\"].item(), filename=dbname)\n",
    "\n",
    "product = list(itertools.product(priors, derivatives, timesteps))"
   ]
  },
  {
   "cell_type": "code",
   "execution_count": 3,
   "metadata": {},
   "outputs": [
    {
     "data": {
      "text/plain": [
       "(100,)"
      ]
     },
     "execution_count": 3,
     "metadata": {},
     "output_type": "execute_result"
    }
   ],
   "source": [
    "diffrax_sol.shape"
   ]
  },
  {
   "cell_type": "code",
   "execution_count": 4,
   "metadata": {},
   "outputs": [
    {
     "data": {
      "application/vnd.jupyter.widget-view+json": {
       "model_id": "eaeb3ec2d3894a7ea50666538f613f0d",
       "version_major": 2,
       "version_minor": 0
      },
      "text/plain": [
       "Output()"
      ]
     },
     "metadata": {},
     "output_type": "display_data"
    },
    {
     "data": {
      "text/html": [
       "<pre style=\"white-space:pre;overflow-x:auto;line-height:normal;font-family:Menlo,'DejaVu Sans Mono',consolas,'Courier New',monospace\">Running experiment: heat_1_30\n",
       "</pre>\n"
      ],
      "text/plain": [
       "Running experiment: heat_1_30\n"
      ]
     },
     "metadata": {},
     "output_type": "display_data"
    },
    {
     "data": {
      "text/html": [
       "<pre style=\"white-space:pre;overflow-x:auto;line-height:normal;font-family:Menlo,'DejaVu Sans Mono',consolas,'Courier New',monospace\">(100,)\n",
       "</pre>\n"
      ],
      "text/plain": [
       "(100,)\n"
      ]
     },
     "metadata": {},
     "output_type": "display_data"
    },
    {
     "data": {
      "text/html": [
       "<pre style=\"white-space:pre;overflow-x:auto;line-height:normal;font-family:Menlo,'DejaVu Sans Mono',consolas,'Courier New',monospace\">Running experiment: heat_1_50\n",
       "</pre>\n"
      ],
      "text/plain": [
       "Running experiment: heat_1_50\n"
      ]
     },
     "metadata": {},
     "output_type": "display_data"
    },
    {
     "data": {
      "text/html": [
       "<pre style=\"white-space:pre;overflow-x:auto;line-height:normal;font-family:Menlo,'DejaVu Sans Mono',consolas,'Courier New',monospace\">(100,)\n",
       "</pre>\n"
      ],
      "text/plain": [
       "(100,)\n"
      ]
     },
     "metadata": {},
     "output_type": "display_data"
    },
    {
     "data": {
      "text/html": [
       "<pre style=\"white-space:pre;overflow-x:auto;line-height:normal;font-family:Menlo,'DejaVu Sans Mono',consolas,'Courier New',monospace\">Running experiment: heat_1_75\n",
       "</pre>\n"
      ],
      "text/plain": [
       "Running experiment: heat_1_75\n"
      ]
     },
     "metadata": {},
     "output_type": "display_data"
    },
    {
     "data": {
      "text/html": [
       "<pre style=\"white-space:pre;overflow-x:auto;line-height:normal;font-family:Menlo,'DejaVu Sans Mono',consolas,'Courier New',monospace\">(100,)\n",
       "</pre>\n"
      ],
      "text/plain": [
       "(100,)\n"
      ]
     },
     "metadata": {},
     "output_type": "display_data"
    },
    {
     "data": {
      "text/html": [
       "<pre style=\"white-space:pre;overflow-x:auto;line-height:normal;font-family:Menlo,'DejaVu Sans Mono',consolas,'Courier New',monospace\">Running experiment: heat_1_100\n",
       "</pre>\n"
      ],
      "text/plain": [
       "Running experiment: heat_1_100\n"
      ]
     },
     "metadata": {},
     "output_type": "display_data"
    },
    {
     "data": {
      "text/html": [
       "<pre style=\"white-space:pre;overflow-x:auto;line-height:normal;font-family:Menlo,'DejaVu Sans Mono',consolas,'Courier New',monospace\">(100,)\n",
       "</pre>\n"
      ],
      "text/plain": [
       "(100,)\n"
      ]
     },
     "metadata": {},
     "output_type": "display_data"
    },
    {
     "data": {
      "text/html": [
       "<pre style=\"white-space:pre;overflow-x:auto;line-height:normal;font-family:Menlo,'DejaVu Sans Mono',consolas,'Courier New',monospace\">Running experiment: heat_1_200\n",
       "</pre>\n"
      ],
      "text/plain": [
       "Running experiment: heat_1_200\n"
      ]
     },
     "metadata": {},
     "output_type": "display_data"
    },
    {
     "data": {
      "text/html": [
       "<pre style=\"white-space:pre;overflow-x:auto;line-height:normal;font-family:Menlo,'DejaVu Sans Mono',consolas,'Courier New',monospace\">(100,)\n",
       "</pre>\n"
      ],
      "text/plain": [
       "(100,)\n"
      ]
     },
     "metadata": {},
     "output_type": "display_data"
    },
    {
     "data": {
      "text/html": [
       "<pre style=\"white-space:pre;overflow-x:auto;line-height:normal;font-family:Menlo,'DejaVu Sans Mono',consolas,'Courier New',monospace\">Running experiment: heat_1_300\n",
       "</pre>\n"
      ],
      "text/plain": [
       "Running experiment: heat_1_300\n"
      ]
     },
     "metadata": {},
     "output_type": "display_data"
    },
    {
     "data": {
      "text/html": [
       "<pre style=\"white-space:pre;overflow-x:auto;line-height:normal;font-family:Menlo,'DejaVu Sans Mono',consolas,'Courier New',monospace\">(100,)\n",
       "</pre>\n"
      ],
      "text/plain": [
       "(100,)\n"
      ]
     },
     "metadata": {},
     "output_type": "display_data"
    },
    {
     "data": {
      "text/html": [
       "<pre style=\"white-space:pre;overflow-x:auto;line-height:normal;font-family:Menlo,'DejaVu Sans Mono',consolas,'Courier New',monospace\">Running experiment: heat_1_400\n",
       "</pre>\n"
      ],
      "text/plain": [
       "Running experiment: heat_1_400\n"
      ]
     },
     "metadata": {},
     "output_type": "display_data"
    },
    {
     "data": {
      "text/html": [
       "<pre style=\"white-space:pre;overflow-x:auto;line-height:normal;font-family:Menlo,'DejaVu Sans Mono',consolas,'Courier New',monospace\">(100,)\n",
       "</pre>\n"
      ],
      "text/plain": [
       "(100,)\n"
      ]
     },
     "metadata": {},
     "output_type": "display_data"
    },
    {
     "data": {
      "text/html": [
       "<pre style=\"white-space:pre;overflow-x:auto;line-height:normal;font-family:Menlo,'DejaVu Sans Mono',consolas,'Courier New',monospace\">Running experiment: heat_1_600\n",
       "</pre>\n"
      ],
      "text/plain": [
       "Running experiment: heat_1_600\n"
      ]
     },
     "metadata": {},
     "output_type": "display_data"
    },
    {
     "data": {
      "text/html": [
       "<pre style=\"white-space:pre;overflow-x:auto;line-height:normal;font-family:Menlo,'DejaVu Sans Mono',consolas,'Courier New',monospace\">(100,)\n",
       "</pre>\n"
      ],
      "text/plain": [
       "(100,)\n"
      ]
     },
     "metadata": {},
     "output_type": "display_data"
    },
    {
     "data": {
      "text/html": [
       "<pre style=\"white-space:pre;overflow-x:auto;line-height:normal;font-family:Menlo,'DejaVu Sans Mono',consolas,'Courier New',monospace\">Running experiment: heat_1_800\n",
       "</pre>\n"
      ],
      "text/plain": [
       "Running experiment: heat_1_800\n"
      ]
     },
     "metadata": {},
     "output_type": "display_data"
    },
    {
     "data": {
      "text/html": [
       "<pre style=\"white-space:pre;overflow-x:auto;line-height:normal;font-family:Menlo,'DejaVu Sans Mono',consolas,'Courier New',monospace\">(100,)\n",
       "</pre>\n"
      ],
      "text/plain": [
       "(100,)\n"
      ]
     },
     "metadata": {},
     "output_type": "display_data"
    },
    {
     "data": {
      "text/html": [
       "<pre style=\"white-space:pre;overflow-x:auto;line-height:normal;font-family:Menlo,'DejaVu Sans Mono',consolas,'Courier New',monospace\">Running experiment: heat_1_1000\n",
       "</pre>\n"
      ],
      "text/plain": [
       "Running experiment: heat_1_1000\n"
      ]
     },
     "metadata": {},
     "output_type": "display_data"
    },
    {
     "data": {
      "text/html": [
       "<pre style=\"white-space:pre;overflow-x:auto;line-height:normal;font-family:Menlo,'DejaVu Sans Mono',consolas,'Courier New',monospace\">(100,)\n",
       "</pre>\n"
      ],
      "text/plain": [
       "(100,)\n"
      ]
     },
     "metadata": {},
     "output_type": "display_data"
    },
    {
     "data": {
      "text/html": [
       "<pre style=\"white-space:pre;overflow-x:auto;line-height:normal;font-family:Menlo,'DejaVu Sans Mono',consolas,'Courier New',monospace\">Running experiment: heat_1_1200\n",
       "</pre>\n"
      ],
      "text/plain": [
       "Running experiment: heat_1_1200\n"
      ]
     },
     "metadata": {},
     "output_type": "display_data"
    },
    {
     "data": {
      "text/html": [
       "<pre style=\"white-space:pre;overflow-x:auto;line-height:normal;font-family:Menlo,'DejaVu Sans Mono',consolas,'Courier New',monospace\">(100,)\n",
       "</pre>\n"
      ],
      "text/plain": [
       "(100,)\n"
      ]
     },
     "metadata": {},
     "output_type": "display_data"
    },
    {
     "data": {
      "text/html": [
       "<pre style=\"white-space:pre;overflow-x:auto;line-height:normal;font-family:Menlo,'DejaVu Sans Mono',consolas,'Courier New',monospace\">Running experiment: heat_1_1600\n",
       "</pre>\n"
      ],
      "text/plain": [
       "Running experiment: heat_1_1600\n"
      ]
     },
     "metadata": {},
     "output_type": "display_data"
    },
    {
     "data": {
      "text/html": [
       "<pre style=\"white-space:pre;overflow-x:auto;line-height:normal;font-family:Menlo,'DejaVu Sans Mono',consolas,'Courier New',monospace\">(100,)\n",
       "</pre>\n"
      ],
      "text/plain": [
       "(100,)\n"
      ]
     },
     "metadata": {},
     "output_type": "display_data"
    },
    {
     "data": {
      "text/html": [
       "<pre style=\"white-space:pre;overflow-x:auto;line-height:normal;font-family:Menlo,'DejaVu Sans Mono',consolas,'Courier New',monospace\">Running experiment: heat_1_2000\n",
       "</pre>\n"
      ],
      "text/plain": [
       "Running experiment: heat_1_2000\n"
      ]
     },
     "metadata": {},
     "output_type": "display_data"
    },
    {
     "data": {
      "text/html": [
       "<pre style=\"white-space:pre;overflow-x:auto;line-height:normal;font-family:Menlo,'DejaVu Sans Mono',consolas,'Courier New',monospace\">(100,)\n",
       "</pre>\n"
      ],
      "text/plain": [
       "(100,)\n"
      ]
     },
     "metadata": {},
     "output_type": "display_data"
    },
    {
     "data": {
      "text/html": [
       "<pre style=\"white-space:pre;overflow-x:auto;line-height:normal;font-family:Menlo,'DejaVu Sans Mono',consolas,'Courier New',monospace\">Running experiment: heat_1_2400\n",
       "</pre>\n"
      ],
      "text/plain": [
       "Running experiment: heat_1_2400\n"
      ]
     },
     "metadata": {},
     "output_type": "display_data"
    },
    {
     "data": {
      "text/html": [
       "<pre style=\"white-space:pre;overflow-x:auto;line-height:normal;font-family:Menlo,'DejaVu Sans Mono',consolas,'Courier New',monospace\">(100,)\n",
       "</pre>\n"
      ],
      "text/plain": [
       "(100,)\n"
      ]
     },
     "metadata": {},
     "output_type": "display_data"
    },
    {
     "data": {
      "text/html": [
       "<pre style=\"white-space:pre;overflow-x:auto;line-height:normal;font-family:Menlo,'DejaVu Sans Mono',consolas,'Courier New',monospace\">Running experiment: heat_1_2800\n",
       "</pre>\n"
      ],
      "text/plain": [
       "Running experiment: heat_1_2800\n"
      ]
     },
     "metadata": {},
     "output_type": "display_data"
    },
    {
     "data": {
      "text/html": [
       "<pre style=\"white-space:pre;overflow-x:auto;line-height:normal;font-family:Menlo,'DejaVu Sans Mono',consolas,'Courier New',monospace\">(100,)\n",
       "</pre>\n"
      ],
      "text/plain": [
       "(100,)\n"
      ]
     },
     "metadata": {},
     "output_type": "display_data"
    },
    {
     "data": {
      "text/html": [
       "<pre style=\"white-space:pre;overflow-x:auto;line-height:normal;font-family:Menlo,'DejaVu Sans Mono',consolas,'Courier New',monospace\">Running experiment: heat_1_3200\n",
       "</pre>\n"
      ],
      "text/plain": [
       "Running experiment: heat_1_3200\n"
      ]
     },
     "metadata": {},
     "output_type": "display_data"
    },
    {
     "data": {
      "text/html": [
       "<pre style=\"white-space:pre;overflow-x:auto;line-height:normal;font-family:Menlo,'DejaVu Sans Mono',consolas,'Courier New',monospace\">(100,)\n",
       "</pre>\n"
      ],
      "text/plain": [
       "(100,)\n"
      ]
     },
     "metadata": {},
     "output_type": "display_data"
    },
    {
     "data": {
      "text/html": [
       "<pre style=\"white-space:pre;overflow-x:auto;line-height:normal;font-family:Menlo,'DejaVu Sans Mono',consolas,'Courier New',monospace\">Running experiment: heat_1_3600\n",
       "</pre>\n"
      ],
      "text/plain": [
       "Running experiment: heat_1_3600\n"
      ]
     },
     "metadata": {},
     "output_type": "display_data"
    },
    {
     "data": {
      "text/html": [
       "<pre style=\"white-space:pre;overflow-x:auto;line-height:normal;font-family:Menlo,'DejaVu Sans Mono',consolas,'Courier New',monospace\">(100,)\n",
       "</pre>\n"
      ],
      "text/plain": [
       "(100,)\n"
      ]
     },
     "metadata": {},
     "output_type": "display_data"
    },
    {
     "data": {
      "text/html": [
       "<pre style=\"white-space:pre;overflow-x:auto;line-height:normal;font-family:Menlo,'DejaVu Sans Mono',consolas,'Courier New',monospace\">Running experiment: heat_1_4000\n",
       "</pre>\n"
      ],
      "text/plain": [
       "Running experiment: heat_1_4000\n"
      ]
     },
     "metadata": {},
     "output_type": "display_data"
    },
    {
     "data": {
      "text/html": [
       "<pre style=\"white-space:pre;overflow-x:auto;line-height:normal;font-family:Menlo,'DejaVu Sans Mono',consolas,'Courier New',monospace\">(100,)\n",
       "</pre>\n"
      ],
      "text/plain": [
       "(100,)\n"
      ]
     },
     "metadata": {},
     "output_type": "display_data"
    },
    {
     "data": {
      "text/html": [
       "<pre style=\"white-space:pre;overflow-x:auto;line-height:normal;font-family:Menlo,'DejaVu Sans Mono',consolas,'Courier New',monospace\">Running experiment: heat_2_30\n",
       "</pre>\n"
      ],
      "text/plain": [
       "Running experiment: heat_2_30\n"
      ]
     },
     "metadata": {},
     "output_type": "display_data"
    },
    {
     "data": {
      "text/html": [
       "<pre style=\"white-space:pre;overflow-x:auto;line-height:normal;font-family:Menlo,'DejaVu Sans Mono',consolas,'Courier New',monospace\">(100,)\n",
       "</pre>\n"
      ],
      "text/plain": [
       "(100,)\n"
      ]
     },
     "metadata": {},
     "output_type": "display_data"
    },
    {
     "data": {
      "text/html": [
       "<pre style=\"white-space:pre;overflow-x:auto;line-height:normal;font-family:Menlo,'DejaVu Sans Mono',consolas,'Courier New',monospace\">Running experiment: heat_2_50\n",
       "</pre>\n"
      ],
      "text/plain": [
       "Running experiment: heat_2_50\n"
      ]
     },
     "metadata": {},
     "output_type": "display_data"
    },
    {
     "data": {
      "text/html": [
       "<pre style=\"white-space:pre;overflow-x:auto;line-height:normal;font-family:Menlo,'DejaVu Sans Mono',consolas,'Courier New',monospace\">(100,)\n",
       "</pre>\n"
      ],
      "text/plain": [
       "(100,)\n"
      ]
     },
     "metadata": {},
     "output_type": "display_data"
    },
    {
     "data": {
      "text/html": [
       "<pre style=\"white-space:pre;overflow-x:auto;line-height:normal;font-family:Menlo,'DejaVu Sans Mono',consolas,'Courier New',monospace\">Running experiment: heat_2_75\n",
       "</pre>\n"
      ],
      "text/plain": [
       "Running experiment: heat_2_75\n"
      ]
     },
     "metadata": {},
     "output_type": "display_data"
    },
    {
     "data": {
      "text/html": [
       "<pre style=\"white-space:pre;overflow-x:auto;line-height:normal;font-family:Menlo,'DejaVu Sans Mono',consolas,'Courier New',monospace\">(100,)\n",
       "</pre>\n"
      ],
      "text/plain": [
       "(100,)\n"
      ]
     },
     "metadata": {},
     "output_type": "display_data"
    },
    {
     "data": {
      "text/html": [
       "<pre style=\"white-space:pre;overflow-x:auto;line-height:normal;font-family:Menlo,'DejaVu Sans Mono',consolas,'Courier New',monospace\">Running experiment: heat_2_100\n",
       "</pre>\n"
      ],
      "text/plain": [
       "Running experiment: heat_2_100\n"
      ]
     },
     "metadata": {},
     "output_type": "display_data"
    },
    {
     "data": {
      "text/html": [
       "<pre style=\"white-space:pre;overflow-x:auto;line-height:normal;font-family:Menlo,'DejaVu Sans Mono',consolas,'Courier New',monospace\">(100,)\n",
       "</pre>\n"
      ],
      "text/plain": [
       "(100,)\n"
      ]
     },
     "metadata": {},
     "output_type": "display_data"
    },
    {
     "data": {
      "text/html": [
       "<pre style=\"white-space:pre;overflow-x:auto;line-height:normal;font-family:Menlo,'DejaVu Sans Mono',consolas,'Courier New',monospace\">Running experiment: heat_2_200\n",
       "</pre>\n"
      ],
      "text/plain": [
       "Running experiment: heat_2_200\n"
      ]
     },
     "metadata": {},
     "output_type": "display_data"
    },
    {
     "data": {
      "text/html": [
       "<pre style=\"white-space:pre;overflow-x:auto;line-height:normal;font-family:Menlo,'DejaVu Sans Mono',consolas,'Courier New',monospace\">(100,)\n",
       "</pre>\n"
      ],
      "text/plain": [
       "(100,)\n"
      ]
     },
     "metadata": {},
     "output_type": "display_data"
    },
    {
     "data": {
      "text/html": [
       "<pre style=\"white-space:pre;overflow-x:auto;line-height:normal;font-family:Menlo,'DejaVu Sans Mono',consolas,'Courier New',monospace\">Running experiment: heat_2_300\n",
       "</pre>\n"
      ],
      "text/plain": [
       "Running experiment: heat_2_300\n"
      ]
     },
     "metadata": {},
     "output_type": "display_data"
    },
    {
     "data": {
      "text/html": [
       "<pre style=\"white-space:pre;overflow-x:auto;line-height:normal;font-family:Menlo,'DejaVu Sans Mono',consolas,'Courier New',monospace\">(100,)\n",
       "</pre>\n"
      ],
      "text/plain": [
       "(100,)\n"
      ]
     },
     "metadata": {},
     "output_type": "display_data"
    },
    {
     "data": {
      "text/html": [
       "<pre style=\"white-space:pre;overflow-x:auto;line-height:normal;font-family:Menlo,'DejaVu Sans Mono',consolas,'Courier New',monospace\">Running experiment: heat_2_400\n",
       "</pre>\n"
      ],
      "text/plain": [
       "Running experiment: heat_2_400\n"
      ]
     },
     "metadata": {},
     "output_type": "display_data"
    },
    {
     "data": {
      "text/html": [
       "<pre style=\"white-space:pre;overflow-x:auto;line-height:normal;font-family:Menlo,'DejaVu Sans Mono',consolas,'Courier New',monospace\">(100,)\n",
       "</pre>\n"
      ],
      "text/plain": [
       "(100,)\n"
      ]
     },
     "metadata": {},
     "output_type": "display_data"
    },
    {
     "data": {
      "text/html": [
       "<pre style=\"white-space:pre;overflow-x:auto;line-height:normal;font-family:Menlo,'DejaVu Sans Mono',consolas,'Courier New',monospace\">Running experiment: heat_2_600\n",
       "</pre>\n"
      ],
      "text/plain": [
       "Running experiment: heat_2_600\n"
      ]
     },
     "metadata": {},
     "output_type": "display_data"
    },
    {
     "data": {
      "text/html": [
       "<pre style=\"white-space:pre;overflow-x:auto;line-height:normal;font-family:Menlo,'DejaVu Sans Mono',consolas,'Courier New',monospace\">(100,)\n",
       "</pre>\n"
      ],
      "text/plain": [
       "(100,)\n"
      ]
     },
     "metadata": {},
     "output_type": "display_data"
    },
    {
     "data": {
      "text/html": [
       "<pre style=\"white-space:pre;overflow-x:auto;line-height:normal;font-family:Menlo,'DejaVu Sans Mono',consolas,'Courier New',monospace\">Running experiment: heat_2_800\n",
       "</pre>\n"
      ],
      "text/plain": [
       "Running experiment: heat_2_800\n"
      ]
     },
     "metadata": {},
     "output_type": "display_data"
    },
    {
     "data": {
      "text/html": [
       "<pre style=\"white-space:pre;overflow-x:auto;line-height:normal;font-family:Menlo,'DejaVu Sans Mono',consolas,'Courier New',monospace\">(100,)\n",
       "</pre>\n"
      ],
      "text/plain": [
       "(100,)\n"
      ]
     },
     "metadata": {},
     "output_type": "display_data"
    },
    {
     "data": {
      "text/html": [
       "<pre style=\"white-space:pre;overflow-x:auto;line-height:normal;font-family:Menlo,'DejaVu Sans Mono',consolas,'Courier New',monospace\">Running experiment: heat_2_1000\n",
       "</pre>\n"
      ],
      "text/plain": [
       "Running experiment: heat_2_1000\n"
      ]
     },
     "metadata": {},
     "output_type": "display_data"
    },
    {
     "data": {
      "text/html": [
       "<pre style=\"white-space:pre;overflow-x:auto;line-height:normal;font-family:Menlo,'DejaVu Sans Mono',consolas,'Courier New',monospace\">(100,)\n",
       "</pre>\n"
      ],
      "text/plain": [
       "(100,)\n"
      ]
     },
     "metadata": {},
     "output_type": "display_data"
    },
    {
     "data": {
      "text/html": [
       "<pre style=\"white-space:pre;overflow-x:auto;line-height:normal;font-family:Menlo,'DejaVu Sans Mono',consolas,'Courier New',monospace\">Running experiment: heat_2_1200\n",
       "</pre>\n"
      ],
      "text/plain": [
       "Running experiment: heat_2_1200\n"
      ]
     },
     "metadata": {},
     "output_type": "display_data"
    },
    {
     "data": {
      "text/html": [
       "<pre style=\"white-space:pre;overflow-x:auto;line-height:normal;font-family:Menlo,'DejaVu Sans Mono',consolas,'Courier New',monospace\">(100,)\n",
       "</pre>\n"
      ],
      "text/plain": [
       "(100,)\n"
      ]
     },
     "metadata": {},
     "output_type": "display_data"
    },
    {
     "data": {
      "text/html": [
       "<pre style=\"white-space:pre;overflow-x:auto;line-height:normal;font-family:Menlo,'DejaVu Sans Mono',consolas,'Courier New',monospace\">Running experiment: heat_2_1600\n",
       "</pre>\n"
      ],
      "text/plain": [
       "Running experiment: heat_2_1600\n"
      ]
     },
     "metadata": {},
     "output_type": "display_data"
    },
    {
     "data": {
      "text/html": [
       "<pre style=\"white-space:pre;overflow-x:auto;line-height:normal;font-family:Menlo,'DejaVu Sans Mono',consolas,'Courier New',monospace\">(100,)\n",
       "</pre>\n"
      ],
      "text/plain": [
       "(100,)\n"
      ]
     },
     "metadata": {},
     "output_type": "display_data"
    },
    {
     "data": {
      "text/html": [
       "<pre style=\"white-space:pre;overflow-x:auto;line-height:normal;font-family:Menlo,'DejaVu Sans Mono',consolas,'Courier New',monospace\">Running experiment: heat_2_2000\n",
       "</pre>\n"
      ],
      "text/plain": [
       "Running experiment: heat_2_2000\n"
      ]
     },
     "metadata": {},
     "output_type": "display_data"
    },
    {
     "data": {
      "text/html": [
       "<pre style=\"white-space:pre;overflow-x:auto;line-height:normal;font-family:Menlo,'DejaVu Sans Mono',consolas,'Courier New',monospace\">(100,)\n",
       "</pre>\n"
      ],
      "text/plain": [
       "(100,)\n"
      ]
     },
     "metadata": {},
     "output_type": "display_data"
    },
    {
     "data": {
      "text/html": [
       "<pre style=\"white-space:pre;overflow-x:auto;line-height:normal;font-family:Menlo,'DejaVu Sans Mono',consolas,'Courier New',monospace\">Running experiment: heat_2_2400\n",
       "</pre>\n"
      ],
      "text/plain": [
       "Running experiment: heat_2_2400\n"
      ]
     },
     "metadata": {},
     "output_type": "display_data"
    },
    {
     "data": {
      "text/html": [
       "<pre style=\"white-space:pre;overflow-x:auto;line-height:normal;font-family:Menlo,'DejaVu Sans Mono',consolas,'Courier New',monospace\">(100,)\n",
       "</pre>\n"
      ],
      "text/plain": [
       "(100,)\n"
      ]
     },
     "metadata": {},
     "output_type": "display_data"
    },
    {
     "data": {
      "text/html": [
       "<pre style=\"white-space:pre;overflow-x:auto;line-height:normal;font-family:Menlo,'DejaVu Sans Mono',consolas,'Courier New',monospace\">Running experiment: heat_2_2800\n",
       "</pre>\n"
      ],
      "text/plain": [
       "Running experiment: heat_2_2800\n"
      ]
     },
     "metadata": {},
     "output_type": "display_data"
    },
    {
     "data": {
      "text/html": [
       "<pre style=\"white-space:pre;overflow-x:auto;line-height:normal;font-family:Menlo,'DejaVu Sans Mono',consolas,'Courier New',monospace\">(100,)\n",
       "</pre>\n"
      ],
      "text/plain": [
       "(100,)\n"
      ]
     },
     "metadata": {},
     "output_type": "display_data"
    },
    {
     "data": {
      "text/html": [
       "<pre style=\"white-space:pre;overflow-x:auto;line-height:normal;font-family:Menlo,'DejaVu Sans Mono',consolas,'Courier New',monospace\">Running experiment: heat_2_3200\n",
       "</pre>\n"
      ],
      "text/plain": [
       "Running experiment: heat_2_3200\n"
      ]
     },
     "metadata": {},
     "output_type": "display_data"
    },
    {
     "data": {
      "text/html": [
       "<pre style=\"white-space:pre;overflow-x:auto;line-height:normal;font-family:Menlo,'DejaVu Sans Mono',consolas,'Courier New',monospace\">(100,)\n",
       "</pre>\n"
      ],
      "text/plain": [
       "(100,)\n"
      ]
     },
     "metadata": {},
     "output_type": "display_data"
    },
    {
     "data": {
      "text/html": [
       "<pre style=\"white-space:pre;overflow-x:auto;line-height:normal;font-family:Menlo,'DejaVu Sans Mono',consolas,'Courier New',monospace\">Running experiment: heat_2_3600\n",
       "</pre>\n"
      ],
      "text/plain": [
       "Running experiment: heat_2_3600\n"
      ]
     },
     "metadata": {},
     "output_type": "display_data"
    },
    {
     "data": {
      "text/html": [
       "<pre style=\"white-space:pre;overflow-x:auto;line-height:normal;font-family:Menlo,'DejaVu Sans Mono',consolas,'Courier New',monospace\">(100,)\n",
       "</pre>\n"
      ],
      "text/plain": [
       "(100,)\n"
      ]
     },
     "metadata": {},
     "output_type": "display_data"
    },
    {
     "data": {
      "text/html": [
       "<pre style=\"white-space:pre;overflow-x:auto;line-height:normal;font-family:Menlo,'DejaVu Sans Mono',consolas,'Courier New',monospace\">Running experiment: heat_2_4000\n",
       "</pre>\n"
      ],
      "text/plain": [
       "Running experiment: heat_2_4000\n"
      ]
     },
     "metadata": {},
     "output_type": "display_data"
    },
    {
     "data": {
      "text/html": [
       "<pre style=\"white-space:pre;overflow-x:auto;line-height:normal;font-family:Menlo,'DejaVu Sans Mono',consolas,'Courier New',monospace\">(100,)\n",
       "</pre>\n"
      ],
      "text/plain": [
       "(100,)\n"
      ]
     },
     "metadata": {},
     "output_type": "display_data"
    },
    {
     "data": {
      "text/html": [
       "<pre style=\"white-space:pre;overflow-x:auto;line-height:normal;font-family:Menlo,'DejaVu Sans Mono',consolas,'Courier New',monospace\">Running experiment: iwp_1_30\n",
       "</pre>\n"
      ],
      "text/plain": [
       "Running experiment: iwp_1_30\n"
      ]
     },
     "metadata": {},
     "output_type": "display_data"
    },
    {
     "data": {
      "text/html": [
       "<pre style=\"white-space:pre;overflow-x:auto;line-height:normal;font-family:Menlo,'DejaVu Sans Mono',consolas,'Courier New',monospace\">(100,)\n",
       "</pre>\n"
      ],
      "text/plain": [
       "(100,)\n"
      ]
     },
     "metadata": {},
     "output_type": "display_data"
    },
    {
     "data": {
      "text/html": [
       "<pre style=\"white-space:pre;overflow-x:auto;line-height:normal;font-family:Menlo,'DejaVu Sans Mono',consolas,'Courier New',monospace\">Running experiment: iwp_1_50\n",
       "</pre>\n"
      ],
      "text/plain": [
       "Running experiment: iwp_1_50\n"
      ]
     },
     "metadata": {},
     "output_type": "display_data"
    },
    {
     "data": {
      "text/html": [
       "<pre style=\"white-space:pre;overflow-x:auto;line-height:normal;font-family:Menlo,'DejaVu Sans Mono',consolas,'Courier New',monospace\">(100,)\n",
       "</pre>\n"
      ],
      "text/plain": [
       "(100,)\n"
      ]
     },
     "metadata": {},
     "output_type": "display_data"
    },
    {
     "data": {
      "text/html": [
       "<pre style=\"white-space:pre;overflow-x:auto;line-height:normal;font-family:Menlo,'DejaVu Sans Mono',consolas,'Courier New',monospace\">Running experiment: iwp_1_75\n",
       "</pre>\n"
      ],
      "text/plain": [
       "Running experiment: iwp_1_75\n"
      ]
     },
     "metadata": {},
     "output_type": "display_data"
    },
    {
     "data": {
      "text/html": [
       "<pre style=\"white-space:pre;overflow-x:auto;line-height:normal;font-family:Menlo,'DejaVu Sans Mono',consolas,'Courier New',monospace\">(100,)\n",
       "</pre>\n"
      ],
      "text/plain": [
       "(100,)\n"
      ]
     },
     "metadata": {},
     "output_type": "display_data"
    },
    {
     "data": {
      "text/html": [
       "<pre style=\"white-space:pre;overflow-x:auto;line-height:normal;font-family:Menlo,'DejaVu Sans Mono',consolas,'Courier New',monospace\">Running experiment: iwp_1_100\n",
       "</pre>\n"
      ],
      "text/plain": [
       "Running experiment: iwp_1_100\n"
      ]
     },
     "metadata": {},
     "output_type": "display_data"
    },
    {
     "data": {
      "text/html": [
       "<pre style=\"white-space:pre;overflow-x:auto;line-height:normal;font-family:Menlo,'DejaVu Sans Mono',consolas,'Courier New',monospace\">(100,)\n",
       "</pre>\n"
      ],
      "text/plain": [
       "(100,)\n"
      ]
     },
     "metadata": {},
     "output_type": "display_data"
    },
    {
     "data": {
      "text/html": [
       "<pre style=\"white-space:pre;overflow-x:auto;line-height:normal;font-family:Menlo,'DejaVu Sans Mono',consolas,'Courier New',monospace\">Running experiment: iwp_1_200\n",
       "</pre>\n"
      ],
      "text/plain": [
       "Running experiment: iwp_1_200\n"
      ]
     },
     "metadata": {},
     "output_type": "display_data"
    },
    {
     "data": {
      "text/html": [
       "<pre style=\"white-space:pre;overflow-x:auto;line-height:normal;font-family:Menlo,'DejaVu Sans Mono',consolas,'Courier New',monospace\">(100,)\n",
       "</pre>\n"
      ],
      "text/plain": [
       "(100,)\n"
      ]
     },
     "metadata": {},
     "output_type": "display_data"
    },
    {
     "data": {
      "text/html": [
       "<pre style=\"white-space:pre;overflow-x:auto;line-height:normal;font-family:Menlo,'DejaVu Sans Mono',consolas,'Courier New',monospace\">Running experiment: iwp_1_300\n",
       "</pre>\n"
      ],
      "text/plain": [
       "Running experiment: iwp_1_300\n"
      ]
     },
     "metadata": {},
     "output_type": "display_data"
    },
    {
     "data": {
      "text/html": [
       "<pre style=\"white-space:pre;overflow-x:auto;line-height:normal;font-family:Menlo,'DejaVu Sans Mono',consolas,'Courier New',monospace\">(100,)\n",
       "</pre>\n"
      ],
      "text/plain": [
       "(100,)\n"
      ]
     },
     "metadata": {},
     "output_type": "display_data"
    },
    {
     "data": {
      "text/html": [
       "<pre style=\"white-space:pre;overflow-x:auto;line-height:normal;font-family:Menlo,'DejaVu Sans Mono',consolas,'Courier New',monospace\">Running experiment: iwp_1_400\n",
       "</pre>\n"
      ],
      "text/plain": [
       "Running experiment: iwp_1_400\n"
      ]
     },
     "metadata": {},
     "output_type": "display_data"
    },
    {
     "data": {
      "text/html": [
       "<pre style=\"white-space:pre;overflow-x:auto;line-height:normal;font-family:Menlo,'DejaVu Sans Mono',consolas,'Courier New',monospace\">(100,)\n",
       "</pre>\n"
      ],
      "text/plain": [
       "(100,)\n"
      ]
     },
     "metadata": {},
     "output_type": "display_data"
    },
    {
     "data": {
      "text/html": [
       "<pre style=\"white-space:pre;overflow-x:auto;line-height:normal;font-family:Menlo,'DejaVu Sans Mono',consolas,'Courier New',monospace\">Running experiment: iwp_1_600\n",
       "</pre>\n"
      ],
      "text/plain": [
       "Running experiment: iwp_1_600\n"
      ]
     },
     "metadata": {},
     "output_type": "display_data"
    },
    {
     "data": {
      "text/html": [
       "<pre style=\"white-space:pre;overflow-x:auto;line-height:normal;font-family:Menlo,'DejaVu Sans Mono',consolas,'Courier New',monospace\">(100,)\n",
       "</pre>\n"
      ],
      "text/plain": [
       "(100,)\n"
      ]
     },
     "metadata": {},
     "output_type": "display_data"
    },
    {
     "data": {
      "text/html": [
       "<pre style=\"white-space:pre;overflow-x:auto;line-height:normal;font-family:Menlo,'DejaVu Sans Mono',consolas,'Courier New',monospace\">Running experiment: iwp_1_800\n",
       "</pre>\n"
      ],
      "text/plain": [
       "Running experiment: iwp_1_800\n"
      ]
     },
     "metadata": {},
     "output_type": "display_data"
    },
    {
     "data": {
      "text/html": [
       "<pre style=\"white-space:pre;overflow-x:auto;line-height:normal;font-family:Menlo,'DejaVu Sans Mono',consolas,'Courier New',monospace\">(100,)\n",
       "</pre>\n"
      ],
      "text/plain": [
       "(100,)\n"
      ]
     },
     "metadata": {},
     "output_type": "display_data"
    },
    {
     "data": {
      "text/html": [
       "<pre style=\"white-space:pre;overflow-x:auto;line-height:normal;font-family:Menlo,'DejaVu Sans Mono',consolas,'Courier New',monospace\">Running experiment: iwp_1_1000\n",
       "</pre>\n"
      ],
      "text/plain": [
       "Running experiment: iwp_1_1000\n"
      ]
     },
     "metadata": {},
     "output_type": "display_data"
    },
    {
     "data": {
      "text/html": [
       "<pre style=\"white-space:pre;overflow-x:auto;line-height:normal;font-family:Menlo,'DejaVu Sans Mono',consolas,'Courier New',monospace\">(100,)\n",
       "</pre>\n"
      ],
      "text/plain": [
       "(100,)\n"
      ]
     },
     "metadata": {},
     "output_type": "display_data"
    },
    {
     "data": {
      "text/html": [
       "<pre style=\"white-space:pre;overflow-x:auto;line-height:normal;font-family:Menlo,'DejaVu Sans Mono',consolas,'Courier New',monospace\">Running experiment: iwp_1_1200\n",
       "</pre>\n"
      ],
      "text/plain": [
       "Running experiment: iwp_1_1200\n"
      ]
     },
     "metadata": {},
     "output_type": "display_data"
    },
    {
     "data": {
      "text/html": [
       "<pre style=\"white-space:pre;overflow-x:auto;line-height:normal;font-family:Menlo,'DejaVu Sans Mono',consolas,'Courier New',monospace\">(100,)\n",
       "</pre>\n"
      ],
      "text/plain": [
       "(100,)\n"
      ]
     },
     "metadata": {},
     "output_type": "display_data"
    },
    {
     "data": {
      "text/html": [
       "<pre style=\"white-space:pre;overflow-x:auto;line-height:normal;font-family:Menlo,'DejaVu Sans Mono',consolas,'Courier New',monospace\">Running experiment: iwp_1_1600\n",
       "</pre>\n"
      ],
      "text/plain": [
       "Running experiment: iwp_1_1600\n"
      ]
     },
     "metadata": {},
     "output_type": "display_data"
    },
    {
     "data": {
      "text/html": [
       "<pre style=\"white-space:pre;overflow-x:auto;line-height:normal;font-family:Menlo,'DejaVu Sans Mono',consolas,'Courier New',monospace\">(100,)\n",
       "</pre>\n"
      ],
      "text/plain": [
       "(100,)\n"
      ]
     },
     "metadata": {},
     "output_type": "display_data"
    },
    {
     "data": {
      "text/html": [
       "<pre style=\"white-space:pre;overflow-x:auto;line-height:normal;font-family:Menlo,'DejaVu Sans Mono',consolas,'Courier New',monospace\">Running experiment: iwp_1_2000\n",
       "</pre>\n"
      ],
      "text/plain": [
       "Running experiment: iwp_1_2000\n"
      ]
     },
     "metadata": {},
     "output_type": "display_data"
    },
    {
     "data": {
      "text/html": [
       "<pre style=\"white-space:pre;overflow-x:auto;line-height:normal;font-family:Menlo,'DejaVu Sans Mono',consolas,'Courier New',monospace\">(100,)\n",
       "</pre>\n"
      ],
      "text/plain": [
       "(100,)\n"
      ]
     },
     "metadata": {},
     "output_type": "display_data"
    },
    {
     "data": {
      "text/html": [
       "<pre style=\"white-space:pre;overflow-x:auto;line-height:normal;font-family:Menlo,'DejaVu Sans Mono',consolas,'Courier New',monospace\">Running experiment: iwp_1_2400\n",
       "</pre>\n"
      ],
      "text/plain": [
       "Running experiment: iwp_1_2400\n"
      ]
     },
     "metadata": {},
     "output_type": "display_data"
    },
    {
     "data": {
      "text/html": [
       "<pre style=\"white-space:pre;overflow-x:auto;line-height:normal;font-family:Menlo,'DejaVu Sans Mono',consolas,'Courier New',monospace\">(100,)\n",
       "</pre>\n"
      ],
      "text/plain": [
       "(100,)\n"
      ]
     },
     "metadata": {},
     "output_type": "display_data"
    },
    {
     "data": {
      "text/html": [
       "<pre style=\"white-space:pre;overflow-x:auto;line-height:normal;font-family:Menlo,'DejaVu Sans Mono',consolas,'Courier New',monospace\">Running experiment: iwp_1_2800\n",
       "</pre>\n"
      ],
      "text/plain": [
       "Running experiment: iwp_1_2800\n"
      ]
     },
     "metadata": {},
     "output_type": "display_data"
    },
    {
     "data": {
      "text/html": [
       "<pre style=\"white-space:pre;overflow-x:auto;line-height:normal;font-family:Menlo,'DejaVu Sans Mono',consolas,'Courier New',monospace\">(100,)\n",
       "</pre>\n"
      ],
      "text/plain": [
       "(100,)\n"
      ]
     },
     "metadata": {},
     "output_type": "display_data"
    },
    {
     "data": {
      "text/html": [
       "<pre style=\"white-space:pre;overflow-x:auto;line-height:normal;font-family:Menlo,'DejaVu Sans Mono',consolas,'Courier New',monospace\">Running experiment: iwp_1_3200\n",
       "</pre>\n"
      ],
      "text/plain": [
       "Running experiment: iwp_1_3200\n"
      ]
     },
     "metadata": {},
     "output_type": "display_data"
    },
    {
     "data": {
      "text/html": [
       "<pre style=\"white-space:pre;overflow-x:auto;line-height:normal;font-family:Menlo,'DejaVu Sans Mono',consolas,'Courier New',monospace\">(100,)\n",
       "</pre>\n"
      ],
      "text/plain": [
       "(100,)\n"
      ]
     },
     "metadata": {},
     "output_type": "display_data"
    },
    {
     "data": {
      "text/html": [
       "<pre style=\"white-space:pre;overflow-x:auto;line-height:normal;font-family:Menlo,'DejaVu Sans Mono',consolas,'Courier New',monospace\">Running experiment: iwp_1_3600\n",
       "</pre>\n"
      ],
      "text/plain": [
       "Running experiment: iwp_1_3600\n"
      ]
     },
     "metadata": {},
     "output_type": "display_data"
    },
    {
     "data": {
      "text/html": [
       "<pre style=\"white-space:pre;overflow-x:auto;line-height:normal;font-family:Menlo,'DejaVu Sans Mono',consolas,'Courier New',monospace\">(100,)\n",
       "</pre>\n"
      ],
      "text/plain": [
       "(100,)\n"
      ]
     },
     "metadata": {},
     "output_type": "display_data"
    },
    {
     "data": {
      "text/html": [
       "<pre style=\"white-space:pre;overflow-x:auto;line-height:normal;font-family:Menlo,'DejaVu Sans Mono',consolas,'Courier New',monospace\">Running experiment: iwp_1_4000\n",
       "</pre>\n"
      ],
      "text/plain": [
       "Running experiment: iwp_1_4000\n"
      ]
     },
     "metadata": {},
     "output_type": "display_data"
    },
    {
     "data": {
      "text/html": [
       "<pre style=\"white-space:pre;overflow-x:auto;line-height:normal;font-family:Menlo,'DejaVu Sans Mono',consolas,'Courier New',monospace\">(100,)\n",
       "</pre>\n"
      ],
      "text/plain": [
       "(100,)\n"
      ]
     },
     "metadata": {},
     "output_type": "display_data"
    },
    {
     "data": {
      "text/html": [
       "<pre style=\"white-space:pre;overflow-x:auto;line-height:normal;font-family:Menlo,'DejaVu Sans Mono',consolas,'Courier New',monospace\">Running experiment: iwp_2_30\n",
       "</pre>\n"
      ],
      "text/plain": [
       "Running experiment: iwp_2_30\n"
      ]
     },
     "metadata": {},
     "output_type": "display_data"
    },
    {
     "data": {
      "text/html": [
       "<pre style=\"white-space:pre;overflow-x:auto;line-height:normal;font-family:Menlo,'DejaVu Sans Mono',consolas,'Courier New',monospace\">(100,)\n",
       "</pre>\n"
      ],
      "text/plain": [
       "(100,)\n"
      ]
     },
     "metadata": {},
     "output_type": "display_data"
    },
    {
     "data": {
      "text/html": [
       "<pre style=\"white-space:pre;overflow-x:auto;line-height:normal;font-family:Menlo,'DejaVu Sans Mono',consolas,'Courier New',monospace\">Running experiment: iwp_2_50\n",
       "</pre>\n"
      ],
      "text/plain": [
       "Running experiment: iwp_2_50\n"
      ]
     },
     "metadata": {},
     "output_type": "display_data"
    },
    {
     "data": {
      "text/html": [
       "<pre style=\"white-space:pre;overflow-x:auto;line-height:normal;font-family:Menlo,'DejaVu Sans Mono',consolas,'Courier New',monospace\">(100,)\n",
       "</pre>\n"
      ],
      "text/plain": [
       "(100,)\n"
      ]
     },
     "metadata": {},
     "output_type": "display_data"
    },
    {
     "data": {
      "text/html": [
       "<pre style=\"white-space:pre;overflow-x:auto;line-height:normal;font-family:Menlo,'DejaVu Sans Mono',consolas,'Courier New',monospace\">Running experiment: iwp_2_75\n",
       "</pre>\n"
      ],
      "text/plain": [
       "Running experiment: iwp_2_75\n"
      ]
     },
     "metadata": {},
     "output_type": "display_data"
    },
    {
     "data": {
      "text/html": [
       "<pre style=\"white-space:pre;overflow-x:auto;line-height:normal;font-family:Menlo,'DejaVu Sans Mono',consolas,'Courier New',monospace\">(100,)\n",
       "</pre>\n"
      ],
      "text/plain": [
       "(100,)\n"
      ]
     },
     "metadata": {},
     "output_type": "display_data"
    },
    {
     "data": {
      "text/html": [
       "<pre style=\"white-space:pre;overflow-x:auto;line-height:normal;font-family:Menlo,'DejaVu Sans Mono',consolas,'Courier New',monospace\">Running experiment: iwp_2_100\n",
       "</pre>\n"
      ],
      "text/plain": [
       "Running experiment: iwp_2_100\n"
      ]
     },
     "metadata": {},
     "output_type": "display_data"
    },
    {
     "data": {
      "text/html": [
       "<pre style=\"white-space:pre;overflow-x:auto;line-height:normal;font-family:Menlo,'DejaVu Sans Mono',consolas,'Courier New',monospace\">(100,)\n",
       "</pre>\n"
      ],
      "text/plain": [
       "(100,)\n"
      ]
     },
     "metadata": {},
     "output_type": "display_data"
    },
    {
     "data": {
      "text/html": [
       "<pre style=\"white-space:pre;overflow-x:auto;line-height:normal;font-family:Menlo,'DejaVu Sans Mono',consolas,'Courier New',monospace\">Running experiment: iwp_2_200\n",
       "</pre>\n"
      ],
      "text/plain": [
       "Running experiment: iwp_2_200\n"
      ]
     },
     "metadata": {},
     "output_type": "display_data"
    },
    {
     "data": {
      "text/html": [
       "<pre style=\"white-space:pre;overflow-x:auto;line-height:normal;font-family:Menlo,'DejaVu Sans Mono',consolas,'Courier New',monospace\">(100,)\n",
       "</pre>\n"
      ],
      "text/plain": [
       "(100,)\n"
      ]
     },
     "metadata": {},
     "output_type": "display_data"
    },
    {
     "data": {
      "text/html": [
       "<pre style=\"white-space:pre;overflow-x:auto;line-height:normal;font-family:Menlo,'DejaVu Sans Mono',consolas,'Courier New',monospace\">Running experiment: iwp_2_300\n",
       "</pre>\n"
      ],
      "text/plain": [
       "Running experiment: iwp_2_300\n"
      ]
     },
     "metadata": {},
     "output_type": "display_data"
    },
    {
     "data": {
      "text/html": [
       "<pre style=\"white-space:pre;overflow-x:auto;line-height:normal;font-family:Menlo,'DejaVu Sans Mono',consolas,'Courier New',monospace\">(100,)\n",
       "</pre>\n"
      ],
      "text/plain": [
       "(100,)\n"
      ]
     },
     "metadata": {},
     "output_type": "display_data"
    },
    {
     "data": {
      "text/html": [
       "<pre style=\"white-space:pre;overflow-x:auto;line-height:normal;font-family:Menlo,'DejaVu Sans Mono',consolas,'Courier New',monospace\">Running experiment: iwp_2_400\n",
       "</pre>\n"
      ],
      "text/plain": [
       "Running experiment: iwp_2_400\n"
      ]
     },
     "metadata": {},
     "output_type": "display_data"
    },
    {
     "data": {
      "text/html": [
       "<pre style=\"white-space:pre;overflow-x:auto;line-height:normal;font-family:Menlo,'DejaVu Sans Mono',consolas,'Courier New',monospace\">(100,)\n",
       "</pre>\n"
      ],
      "text/plain": [
       "(100,)\n"
      ]
     },
     "metadata": {},
     "output_type": "display_data"
    },
    {
     "data": {
      "text/html": [
       "<pre style=\"white-space:pre;overflow-x:auto;line-height:normal;font-family:Menlo,'DejaVu Sans Mono',consolas,'Courier New',monospace\">Running experiment: iwp_2_600\n",
       "</pre>\n"
      ],
      "text/plain": [
       "Running experiment: iwp_2_600\n"
      ]
     },
     "metadata": {},
     "output_type": "display_data"
    },
    {
     "data": {
      "text/html": [
       "<pre style=\"white-space:pre;overflow-x:auto;line-height:normal;font-family:Menlo,'DejaVu Sans Mono',consolas,'Courier New',monospace\">(100,)\n",
       "</pre>\n"
      ],
      "text/plain": [
       "(100,)\n"
      ]
     },
     "metadata": {},
     "output_type": "display_data"
    },
    {
     "data": {
      "text/html": [
       "<pre style=\"white-space:pre;overflow-x:auto;line-height:normal;font-family:Menlo,'DejaVu Sans Mono',consolas,'Courier New',monospace\">Running experiment: iwp_2_800\n",
       "</pre>\n"
      ],
      "text/plain": [
       "Running experiment: iwp_2_800\n"
      ]
     },
     "metadata": {},
     "output_type": "display_data"
    },
    {
     "data": {
      "text/html": [
       "<pre style=\"white-space:pre;overflow-x:auto;line-height:normal;font-family:Menlo,'DejaVu Sans Mono',consolas,'Courier New',monospace\">(100,)\n",
       "</pre>\n"
      ],
      "text/plain": [
       "(100,)\n"
      ]
     },
     "metadata": {},
     "output_type": "display_data"
    },
    {
     "data": {
      "text/html": [
       "<pre style=\"white-space:pre;overflow-x:auto;line-height:normal;font-family:Menlo,'DejaVu Sans Mono',consolas,'Courier New',monospace\">Running experiment: iwp_2_1000\n",
       "</pre>\n"
      ],
      "text/plain": [
       "Running experiment: iwp_2_1000\n"
      ]
     },
     "metadata": {},
     "output_type": "display_data"
    },
    {
     "data": {
      "text/html": [
       "<pre style=\"white-space:pre;overflow-x:auto;line-height:normal;font-family:Menlo,'DejaVu Sans Mono',consolas,'Courier New',monospace\">(100,)\n",
       "</pre>\n"
      ],
      "text/plain": [
       "(100,)\n"
      ]
     },
     "metadata": {},
     "output_type": "display_data"
    },
    {
     "data": {
      "text/html": [
       "<pre style=\"white-space:pre;overflow-x:auto;line-height:normal;font-family:Menlo,'DejaVu Sans Mono',consolas,'Courier New',monospace\">Running experiment: iwp_2_1200\n",
       "</pre>\n"
      ],
      "text/plain": [
       "Running experiment: iwp_2_1200\n"
      ]
     },
     "metadata": {},
     "output_type": "display_data"
    },
    {
     "data": {
      "text/html": [
       "<pre style=\"white-space:pre;overflow-x:auto;line-height:normal;font-family:Menlo,'DejaVu Sans Mono',consolas,'Courier New',monospace\">(100,)\n",
       "</pre>\n"
      ],
      "text/plain": [
       "(100,)\n"
      ]
     },
     "metadata": {},
     "output_type": "display_data"
    },
    {
     "data": {
      "text/html": [
       "<pre style=\"white-space:pre;overflow-x:auto;line-height:normal;font-family:Menlo,'DejaVu Sans Mono',consolas,'Courier New',monospace\">Running experiment: iwp_2_1600\n",
       "</pre>\n"
      ],
      "text/plain": [
       "Running experiment: iwp_2_1600\n"
      ]
     },
     "metadata": {},
     "output_type": "display_data"
    },
    {
     "data": {
      "text/html": [
       "<pre style=\"white-space:pre;overflow-x:auto;line-height:normal;font-family:Menlo,'DejaVu Sans Mono',consolas,'Courier New',monospace\">(100,)\n",
       "</pre>\n"
      ],
      "text/plain": [
       "(100,)\n"
      ]
     },
     "metadata": {},
     "output_type": "display_data"
    },
    {
     "data": {
      "text/html": [
       "<pre style=\"white-space:pre;overflow-x:auto;line-height:normal;font-family:Menlo,'DejaVu Sans Mono',consolas,'Courier New',monospace\">Running experiment: iwp_2_2000\n",
       "</pre>\n"
      ],
      "text/plain": [
       "Running experiment: iwp_2_2000\n"
      ]
     },
     "metadata": {},
     "output_type": "display_data"
    },
    {
     "data": {
      "text/html": [
       "<pre style=\"white-space:pre;overflow-x:auto;line-height:normal;font-family:Menlo,'DejaVu Sans Mono',consolas,'Courier New',monospace\">(100,)\n",
       "</pre>\n"
      ],
      "text/plain": [
       "(100,)\n"
      ]
     },
     "metadata": {},
     "output_type": "display_data"
    },
    {
     "data": {
      "text/html": [
       "<pre style=\"white-space:pre;overflow-x:auto;line-height:normal;font-family:Menlo,'DejaVu Sans Mono',consolas,'Courier New',monospace\">Running experiment: iwp_2_2400\n",
       "</pre>\n"
      ],
      "text/plain": [
       "Running experiment: iwp_2_2400\n"
      ]
     },
     "metadata": {},
     "output_type": "display_data"
    },
    {
     "data": {
      "text/html": [
       "<pre style=\"white-space:pre;overflow-x:auto;line-height:normal;font-family:Menlo,'DejaVu Sans Mono',consolas,'Courier New',monospace\">(100,)\n",
       "</pre>\n"
      ],
      "text/plain": [
       "(100,)\n"
      ]
     },
     "metadata": {},
     "output_type": "display_data"
    },
    {
     "data": {
      "text/html": [
       "<pre style=\"white-space:pre;overflow-x:auto;line-height:normal;font-family:Menlo,'DejaVu Sans Mono',consolas,'Courier New',monospace\">Running experiment: iwp_2_2800\n",
       "</pre>\n"
      ],
      "text/plain": [
       "Running experiment: iwp_2_2800\n"
      ]
     },
     "metadata": {},
     "output_type": "display_data"
    },
    {
     "data": {
      "text/html": [
       "<pre style=\"white-space:pre;overflow-x:auto;line-height:normal;font-family:Menlo,'DejaVu Sans Mono',consolas,'Courier New',monospace\">(100,)\n",
       "</pre>\n"
      ],
      "text/plain": [
       "(100,)\n"
      ]
     },
     "metadata": {},
     "output_type": "display_data"
    },
    {
     "data": {
      "text/html": [
       "<pre style=\"white-space:pre;overflow-x:auto;line-height:normal;font-family:Menlo,'DejaVu Sans Mono',consolas,'Courier New',monospace\">Running experiment: iwp_2_3200\n",
       "</pre>\n"
      ],
      "text/plain": [
       "Running experiment: iwp_2_3200\n"
      ]
     },
     "metadata": {},
     "output_type": "display_data"
    },
    {
     "data": {
      "text/html": [
       "<pre style=\"white-space:pre;overflow-x:auto;line-height:normal;font-family:Menlo,'DejaVu Sans Mono',consolas,'Courier New',monospace\">(100,)\n",
       "</pre>\n"
      ],
      "text/plain": [
       "(100,)\n"
      ]
     },
     "metadata": {},
     "output_type": "display_data"
    },
    {
     "data": {
      "text/html": [
       "<pre style=\"white-space:pre;overflow-x:auto;line-height:normal;font-family:Menlo,'DejaVu Sans Mono',consolas,'Courier New',monospace\">Running experiment: iwp_2_3600\n",
       "</pre>\n"
      ],
      "text/plain": [
       "Running experiment: iwp_2_3600\n"
      ]
     },
     "metadata": {},
     "output_type": "display_data"
    },
    {
     "data": {
      "text/html": [
       "<pre style=\"white-space:pre;overflow-x:auto;line-height:normal;font-family:Menlo,'DejaVu Sans Mono',consolas,'Courier New',monospace\">(100,)\n",
       "</pre>\n"
      ],
      "text/plain": [
       "(100,)\n"
      ]
     },
     "metadata": {},
     "output_type": "display_data"
    },
    {
     "data": {
      "text/html": [
       "<pre style=\"white-space:pre;overflow-x:auto;line-height:normal;font-family:Menlo,'DejaVu Sans Mono',consolas,'Courier New',monospace\">Running experiment: iwp_2_4000\n",
       "</pre>\n"
      ],
      "text/plain": [
       "Running experiment: iwp_2_4000\n"
      ]
     },
     "metadata": {},
     "output_type": "display_data"
    },
    {
     "data": {
      "text/html": [
       "<pre style=\"white-space:pre;overflow-x:auto;line-height:normal;font-family:Menlo,'DejaVu Sans Mono',consolas,'Courier New',monospace\">(100,)\n",
       "</pre>\n"
      ],
      "text/plain": [
       "(100,)\n"
      ]
     },
     "metadata": {},
     "output_type": "display_data"
    },
    {
     "data": {
      "text/html": [
       "<pre style=\"white-space:pre;overflow-x:auto;line-height:normal;font-family:Menlo,'DejaVu Sans Mono',consolas,'Courier New',monospace\"></pre>\n"
      ],
      "text/plain": []
     },
     "metadata": {},
     "output_type": "display_data"
    }
   ],
   "source": [
    "import time\n",
    "import numpy as np\n",
    "\n",
    "import rich.progress\n",
    "import rich\n",
    "\n",
    "\n",
    "progress_bar = rich.progress.track(total=len(product), sequence=product)\n",
    "for prior, q, timestep in progress_bar:\n",
    "    experiment_name = build_experiment_name(prior, q, timestep)\n",
    "    print(f\"Running experiment: {experiment_name}\")\n",
    "\n",
    "    means, stds, runtime, rmse = get_value(experiment_name, [None] * 4, dbname)\n",
    "    if means is None:\n",
    "        fastest_time = 1e9\n",
    "        for _ in range(1):\n",
    "            start_time = time.time()\n",
    "            means, stds = probabilistic_solve_icosphere.solve(\n",
    "                isosphere_nu=nu,\n",
    "                timesteps=timestep,\n",
    "                derivatives=q,\n",
    "                prior=prior,\n",
    "                problem=problem,\n",
    "            )\n",
    "            try:\n",
    "                means = means[:, zleast_point]\n",
    "                stds = stds[:, zleast_point]\n",
    "            except Exception as err:\n",
    "                print(f\"Experiment {experiment_name} failed because of {err}\")\n",
    "            end_time = time.time()\n",
    "            if end_time - start_time < fastest_time:\n",
    "                fastest_time = end_time - start_time\n",
    "        diff = means - diffrax_sol\n",
    "        rmse = jnp.sqrt(jnp.mean(diff[:-1] ** 2))\n",
    "        means = means.astype(np.float32)\n",
    "        stds = stds.astype(np.float32)\n",
    "        set_value(\n",
    "            experiment_name,\n",
    "            (\n",
    "                means.astype(np.float32),\n",
    "                stds.astype(np.float32),\n",
    "                fastest_time,\n",
    "                rmse,\n",
    "            ),\n",
    "            filename=dbname,\n",
    "        )\n",
    "    else:\n",
    "        continue"
   ]
  },
  {
   "cell_type": "markdown",
   "metadata": {},
   "source": []
  }
 ],
 "metadata": {
  "kernelspec": {
   "display_name": "Python 3",
   "language": "python",
   "name": "python3"
  },
  "language_info": {
   "codemirror_mode": {
    "name": "ipython",
    "version": 3
   },
   "file_extension": ".py",
   "mimetype": "text/x-python",
   "name": "python",
   "nbconvert_exporter": "python",
   "pygments_lexer": "ipython3",
   "version": "3.9.6"
  }
 },
 "nbformat": 4,
 "nbformat_minor": 2
}
