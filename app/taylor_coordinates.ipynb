{
 "cells": [
  {
   "cell_type": "code",
   "execution_count": 1,
   "metadata": {},
   "outputs": [
    {
     "name": "stdout",
     "output_type": "stream",
     "text": [
      "highest vertex:  0.85065080835204\n"
     ]
    }
   ],
   "source": [
    "import jax.numpy as jnp\n",
    "from diffrax import diffeqsolve, ODETerm, SaveAt, PIDController, Kvaerno5\n",
    "from discrete_exterior_calculus import DEC\n",
    "from icosphere import icosphere\n",
    "from jax import config\n",
    "import probabilistic_solve_icosphere\n",
    "import matplotlib.pyplot as plt\n",
    "\n",
    "\n",
    "config.update(\"jax_enable_x64\", True)\n",
    "\n",
    "\n",
    "# nu:       1   2   3   4    5    6    7    8    9    10\n",
    "# vertices: 12, 42, 92, 162, 252, 362, 492, 642, 812, 1002\n",
    "nu = 1\n",
    "vertices, faces = icosphere(nu=nu)\n",
    "mesh_name = f\"icosphere_v={len(vertices)}\"\n",
    "mesh = DEC.Mesh(vertices, faces)\n",
    "\n",
    "print(\"highest vertex: \", jnp.max(vertices))\n",
    "\n",
    "zmost_point = jnp.argmax(vertices[:, 2])\n",
    "zleast_point = jnp.argmin(vertices[:, 2])\n",
    "xmost_point = jnp.argmax(vertices[:, 0])\n",
    "xleast_point = jnp.argmin(vertices[:, 0])\n",
    "ymost_point = jnp.argmax(vertices[:, 1])\n",
    "yleast_point = jnp.argmin(vertices[:, 1])\n",
    "\n",
    "n = len(vertices)\n",
    "q = 1\n",
    "\n",
    "\n",
    "# Define the vector field\n",
    "def vector_field(t, y, args):\n",
    "    # Extract u and v from y\n",
    "    return mesh.laplace_matrix @ y\n",
    "\n",
    "\n",
    "# Define the ODE term\n",
    "term = ODETerm(vector_field)\n",
    "\n",
    "steps = 1000\n",
    "\n",
    "end_time = 10\n",
    "# Solver settings\n",
    "solver = Kvaerno5()  # Runge-Kutta method\n",
    "saveat = SaveAt(\n",
    "    ts=jnp.linspace(0, end_time, steps)\n",
    ")  # Save at 100 evenly spaced time points\n",
    "stepsize_controller = PIDController(rtol=1e-8, atol=1e-8)\n",
    "\n",
    "# Initial conditions\n",
    "u0 = jnp.zeros(n)  # Initial condition for u (e.g., zero displacement)\n",
    "u0 = u0.at[ymost_point].set(2.0)  # Example: Displace the middle point\n",
    "u0 = u0.at[yleast_point].set(-2.0)  # Example: Displace the middle point\n",
    "\n",
    "# Solve the system\n",
    "sol = diffeqsolve(\n",
    "    term,\n",
    "    solver,\n",
    "    t0=0,\n",
    "    t1=end_time,\n",
    "    dt0=0.01,\n",
    "    y0=u0,\n",
    "    saveat=saveat,\n",
    "    stepsize_controller=stepsize_controller,\n",
    "    max_steps=50000,\n",
    ")\n",
    "\n",
    "# Extract solutions\n",
    "diffrax_sol = sol.ys[:, :n]  # Displacement solutions over time"
   ]
  },
  {
   "cell_type": "code",
   "execution_count": 15,
   "metadata": {},
   "outputs": [
    {
     "name": "stdout",
     "output_type": "stream",
     "text": [
      "(1000, 48, 48)\n"
     ]
    },
    {
     "data": {
      "text/plain": [
       "[<matplotlib.lines.Line2D at 0x340b68340>]"
      ]
     },
     "execution_count": 15,
     "metadata": {},
     "output_type": "execute_result"
    },
    {
     "data": {
      "image/png": "[encoded data removed]",
      "text/plain": [
       "<Figure size 640x480 with 1 Axes>"
      ]
     },
     "metadata": {},
     "output_type": "display_data"
    }
   ],
   "source": [
    "import jax\n",
    "import jax.numpy as jnp\n",
    "from probdiffeq import ivpsolve, ivpsolvers, taylor, stats\n",
    "from probdiffeq.impl import impl\n",
    "\n",
    "jax.config.update(\"jax_platform_name\", \"cpu\")\n",
    "\n",
    "\n",
    "@jax.jit\n",
    "def vf(y, *, t):  # noqa: ARG001\n",
    "    return mesh.laplace_matrix @ y\n",
    "\n",
    "\n",
    "t0, t1 = 0.0, 10.0\n",
    "\n",
    "impl.select(\"dense\", ode_shape=(12,))\n",
    "\n",
    "q = 3  # THIS IS THE ONLY NUMBER I'VE BEEN CHANGING\n",
    "\n",
    "ibm = ivpsolvers.prior_ibm(num_derivatives=q)\n",
    "ts0 = ivpsolvers.correction_ts1(ode_order=1)\n",
    "\n",
    "strategy = ivpsolvers.strategy_smoother(ibm, ts0)\n",
    "solver = ivpsolvers.solver(strategy)\n",
    "\n",
    "tcoeffs = taylor.odejet_padded_scan(lambda y: vf(y, t=t0), (u0,), num=q)\n",
    "output_scale = 1.0  # or any other value with the same shape\n",
    "init = solver.initial_condition(tcoeffs, output_scale)\n",
    "\n",
    "dt0 = ivpsolve.dt0(lambda y: vf(y, t=t0), (u0,))  # or use e.g. dt0=0.1\n",
    "solution = ivpsolve.solve_fixed_grid(\n",
    "    vf, init, grid=jnp.linspace(0, 10, steps), solver=solver\n",
    ")\n",
    "\n",
    "marginals = stats.calibrate(solution.marginals, solution.output_scale)\n",
    "print(marginals.cholesky.shape)\n",
    "cov_mats = jnp.einsum(\"ijk,ilk->ijl\", marginals.cholesky, marginals.cholesky)\n",
    "\n",
    "std = jnp.sqrt(cov_mats[:, yleast_point, yleast_point])\n",
    "mean = solution.u[:, yleast_point]\n",
    "\n",
    "# Looking at the solution\n",
    "plt.plot(solution.t, mean)\n",
    "plt.plot(solution.t, mean + 3.0 * std)\n",
    "plt.plot(solution.t, mean - 3.0 * std)"
   ]
  },
  {
   "cell_type": "code",
   "execution_count": 3,
   "metadata": {},
   "outputs": [
    {
     "data": {
      "text/plain": [
       "Array([  0.        ,   1.4472136 , -10.47213595,   0.        ,\n",
       "        -1.4472136 ,  10.47213595,   2.        ,  -7.23606798,\n",
       "        31.41640786,   0.        ,   1.4472136 , -10.47213595,\n",
       "         0.        ,   1.4472136 , -10.47213595,   0.        ,\n",
       "        -1.4472136 ,  10.47213595,   0.        ,  -1.4472136 ,\n",
       "        10.47213595,   0.        ,   1.4472136 , -10.47213595,\n",
       "        -2.        ,   7.23606798, -31.41640786,   0.        ,\n",
       "        -1.4472136 ,  10.47213595,   0.        ,  -1.4472136 ,\n",
       "        10.47213595,   0.        ,   1.4472136 , -10.47213595],      dtype=float64)"
      ]
     },
     "execution_count": 3,
     "metadata": {},
     "output_type": "execute_result"
    }
   ],
   "source": [
    "init[0].init.mean"
   ]
  },
  {
   "cell_type": "code",
   "execution_count": 6,
   "metadata": {},
   "outputs": [
    {
     "name": "stdout",
     "output_type": "stream",
     "text": [
      "Discretized IWP prior\n",
      "False\n",
      "False\n",
      "Filtered\n",
      "(1000, 36)\n",
      "(1000, 36)\n",
      "(36, 36)\n",
      "(100, 36)\n",
      "has nan:  mean: False std: False\n"
     ]
    },
    {
     "data": {
      "text/plain": [
       "[<matplotlib.lines.Line2D at 0x32cb9ccd0>]"
      ]
     },
     "execution_count": 6,
     "metadata": {},
     "output_type": "execute_result"
    },
    {
     "data": {
      "image/png": "[encoded data removed]",
      "text/plain": [
       "<Figure size 640x480 with 1 Axes>"
      ]
     },
     "metadata": {},
     "output_type": "display_data"
    }
   ],
   "source": [
    "ts = 1000\n",
    "domain = probabilistic_solve_icosphere.return_times\n",
    "means, std = probabilistic_solve_icosphere.solve(\n",
    "    isosphere_nu=1,\n",
    "    timesteps=ts,\n",
    "    derivatives=2,\n",
    "    prior=\"iwp\",\n",
    ")\n",
    "print(means.shape)\n",
    "\n",
    "print(\"has nan: \", \"mean:\", jnp.any(jnp.isnan(means)), \"std:\", jnp.any(jnp.isnan(std)))\n",
    "\n",
    "plt.plot(sol.ts, diffrax_sol[:, yleast_point], label=\"Diffrax\")\n",
    "plt.plot(domain, means[:, yleast_point], label=\"Probabilistic\", linestyle=\"--\")\n",
    "plt.plot(domain, [0.0] * 100, label=\"Initial\")"
   ]
  },
  {
   "cell_type": "markdown",
   "metadata": {},
   "source": [
    "# Testing calibration"
   ]
  },
  {
   "cell_type": "code",
   "execution_count": 5,
   "metadata": {},
   "outputs": [
    {
     "name": "stdout",
     "output_type": "stream",
     "text": [
      "(999, 12)\n",
      "111.24658263693252 expected: 999\n"
     ]
    }
   ],
   "source": [
    "# other = jnp.interp(solution.t, sol.ts, diffrax_sol[:, yleast_point])\n",
    "diff = (diffrax_sol - solution.u[:, :12])[1:]\n",
    "\n",
    "stat = 0\n",
    "for time in range(1, steps):\n",
    "    stat += jnp.sum(\n",
    "        diff[time] @ jnp.linalg.inv(cov_mats[time, :12, :12]) @ diff[time].T\n",
    "    )\n",
    "\n",
    "print(diff.shape)\n",
    "\n",
    "print(stat, \"expected:\", steps - 1)"
   ]
  }
 ],
 "metadata": {
  "kernelspec": {
   "display_name": "Python 3",
   "language": "python",
   "name": "python3"
  },
  "language_info": {
   "codemirror_mode": {
    "name": "ipython",
    "version": 3
   },
   "file_extension": ".py",
   "mimetype": "text/x-python",
   "name": "python",
   "nbconvert_exporter": "python",
   "pygments_lexer": "ipython3",
   "version": "3.9.6"
  }
 },
 "nbformat": 4,
 "nbformat_minor": 2
}
