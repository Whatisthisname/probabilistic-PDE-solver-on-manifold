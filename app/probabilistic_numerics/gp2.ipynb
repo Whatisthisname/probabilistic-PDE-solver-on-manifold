{
 "cells": [
  {
   "cell_type": "code",
   "execution_count": 1,
   "metadata": {},
   "outputs": [],
   "source": [
    "import matplotlib.pyplot as plt\n",
    "import sympy as sp\n",
    "import numpy as np"
   ]
  },
  {
   "cell_type": "code",
   "execution_count": 11,
   "metadata": {},
   "outputs": [
    {
     "data": {
      "text/latex": [
       "$\\displaystyle \\left[\\begin{matrix}\\cosh{\\left(\\sqrt{a} \\right)} & \\frac{\\sinh{\\left(\\sqrt{a} \\right)}}{\\sqrt{a}}\\\\\\sqrt{a} \\sinh{\\left(\\sqrt{a} \\right)} & \\cosh{\\left(\\sqrt{a} \\right)}\\end{matrix}\\right]$"
      ],
      "text/plain": [
       "Matrix([\n",
       "[        cosh(sqrt(a)), sinh(sqrt(a))/sqrt(a)],\n",
       "[sqrt(a)*sinh(sqrt(a)),         cosh(sqrt(a))]])"
      ]
     },
     "execution_count": 11,
     "metadata": {},
     "output_type": "execute_result"
    }
   ],
   "source": [
    "a, b, tau = sp.symbols(\"a b' tau\")\n",
    "sp.assuming(a > 0)\n",
    "F = sp.Matrix([[0, 1], [a, 0]])\n",
    "sp.exp(F).simplify()\n",
    "\n",
    "# integrand = sp.exp(F * (t - tau)) @ L @ L.T @ sp.exp(F.T * (t_p - tau))\n",
    "# display(\"integrand:\", integrand)\n",
    "# integral = sp.integrate(integrand, (tau, 0, sp.Min(t, t_p)))\n",
    "# display(\"integrated:\", sp.simplify(integral))"
   ]
  },
  {
   "cell_type": "markdown",
   "metadata": {},
   "source": [
    "## sent to Nico:"
   ]
  },
  {
   "cell_type": "code",
   "execution_count": 2,
   "metadata": {},
   "outputs": [
    {
     "data": {
      "text/plain": [
       "'integrand:'"
      ]
     },
     "metadata": {},
     "output_type": "display_data"
    },
    {
     "data": {
      "text/latex": [
       "$\\displaystyle \\left[\\begin{matrix}\\left(t - \\tau\\right) \\left(t' - \\tau\\right) & t - \\tau\\\\t' - \\tau & 1\\end{matrix}\\right]$"
      ],
      "text/plain": [
       "Matrix([\n",
       "[(t - tau)*(t' - tau), t - tau],\n",
       "[            t' - tau,       1]])"
      ]
     },
     "metadata": {},
     "output_type": "display_data"
    },
    {
     "data": {
      "text/plain": [
       "'integrated:'"
      ]
     },
     "metadata": {},
     "output_type": "display_data"
    },
    {
     "data": {
      "text/latex": [
       "$\\displaystyle \\left[\\begin{matrix}\\left(t t' - \\frac{\\left(t + t'\\right) \\min\\left(t, t'\\right)}{2} + \\frac{\\min\\left(t, t'\\right)^{2}}{3}\\right) \\min\\left(t, t'\\right) & \\frac{\\left(2 t - \\min\\left(t, t'\\right)\\right) \\min\\left(t, t'\\right)}{2}\\\\\\frac{\\left(2 t' - \\min\\left(t, t'\\right)\\right) \\min\\left(t, t'\\right)}{2} & \\min\\left(t, t'\\right)\\end{matrix}\\right]$"
      ],
      "text/plain": [
       "Matrix([\n",
       "[(t*t' - (t + t')*Min(t, t')/2 + Min(t, t')**2/3)*Min(t, t'), (2*t - Min(t, t'))*Min(t, t')/2],\n",
       "[                           (2*t' - Min(t, t'))*Min(t, t')/2,                      Min(t, t')]])"
      ]
     },
     "metadata": {},
     "output_type": "display_data"
    }
   ],
   "source": [
    "t, t_p, tau = sp.symbols(\"t t' tau\")\n",
    "F = sp.Matrix([[0, 1], [0, 0]])\n",
    "L = sp.Matrix([[0], [1]])\n",
    "\n",
    "integrand = sp.exp(F * (t - tau)) @ L @ L.T @ sp.exp(F.T * (t_p - tau))\n",
    "display(\"integrand:\", integrand)\n",
    "integral = sp.integrate(integrand, (tau, 0, sp.Min(t, t_p)))\n",
    "display(\"integrated:\", sp.simplify(integral))"
   ]
  },
  {
   "cell_type": "markdown",
   "metadata": {},
   "source": [
    "## trying again using the thesis"
   ]
  },
  {
   "cell_type": "code",
   "execution_count": 10,
   "metadata": {},
   "outputs": [
    {
     "data": {
      "text/plain": [
       "'integrand:'"
      ]
     },
     "metadata": {},
     "output_type": "display_data"
    },
    {
     "data": {
      "text/latex": [
       "$\\displaystyle \\left[\\begin{matrix}\\left(t - \\tau\\right) \\left(t' - \\tau\\right) & t - \\tau\\\\t' - \\tau & 1\\end{matrix}\\right]$"
      ],
      "text/plain": [
       "Matrix([\n",
       "[(t - tau)*(t' - tau), t - tau],\n",
       "[            t' - tau,       1]])"
      ]
     },
     "metadata": {},
     "output_type": "display_data"
    },
    {
     "data": {
      "text/plain": [
       "'integrated:'"
      ]
     },
     "metadata": {},
     "output_type": "display_data"
    },
    {
     "data": {
      "text/latex": [
       "$\\displaystyle \\left[\\begin{matrix}\\left(t t' - \\frac{\\left(t + t'\\right) \\min\\left(t, t'\\right)}{2} + \\frac{\\min\\left(t, t'\\right)^{2}}{3}\\right) \\min\\left(t, t'\\right) & \\frac{\\left(2 t - \\min\\left(t, t'\\right)\\right) \\min\\left(t, t'\\right)}{2}\\\\\\frac{\\left(2 t' - \\min\\left(t, t'\\right)\\right) \\min\\left(t, t'\\right)}{2} & \\min\\left(t, t'\\right)\\end{matrix}\\right]$"
      ],
      "text/plain": [
       "Matrix([\n",
       "[(t*t' - (t + t')*Min(t, t')/2 + Min(t, t')**2/3)*Min(t, t'), (2*t - Min(t, t'))*Min(t, t')/2],\n",
       "[                           (2*t' - Min(t, t'))*Min(t, t')/2,                      Min(t, t')]])"
      ]
     },
     "metadata": {},
     "output_type": "display_data"
    }
   ],
   "source": [
    "t, t_p, tau = sp.symbols(\"t t' tau\")\n",
    "F = sp.Matrix([[0, 1], [0, 0]])\n",
    "L = sp.Matrix([[0], [1]])\n",
    "\n",
    "integrand = sp.exp(F * (t - tau)) @ L @ L.T @ sp.exp(F * (t_p - tau)).T\n",
    "display(\"integrand:\", integrand)\n",
    "integral = sp.integrate(integrand, (tau, 0, sp.Min(t, t_p)))\n",
    "display(\"integrated:\", sp.simplify(integral))"
   ]
  }
 ],
 "metadata": {
  "kernelspec": {
   "display_name": "Python 3",
   "language": "python",
   "name": "python3"
  },
  "language_info": {
   "codemirror_mode": {
    "name": "ipython",
    "version": 3
   },
   "file_extension": ".py",
   "mimetype": "text/x-python",
   "name": "python",
   "nbconvert_exporter": "python",
   "pygments_lexer": "ipython3",
   "version": "3.9.6"
  }
 },
 "nbformat": 4,
 "nbformat_minor": 2
}
